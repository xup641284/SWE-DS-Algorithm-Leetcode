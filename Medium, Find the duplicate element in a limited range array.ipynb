{
 "cells": [
  {
   "cell_type": "markdown",
   "metadata": {},
   "source": [
    "# Difference in sum, O(n)"
   ]
  },
  {
   "cell_type": "code",
   "execution_count": 4,
   "metadata": {},
   "outputs": [
    {
     "name": "stdout",
     "output_type": "stream",
     "text": [
      "The duplicate element is 4\n"
     ]
    }
   ],
   "source": [
    "def findDuplicate(nums):\n",
    " \n",
    "    actual_sum = sum(nums)\n",
    "    expected_sum = len(nums) * (len(nums) - 1) // 2\n",
    " \n",
    "    return actual_sum - expected_sum\n",
    " \n",
    "if __name__ == '__main__':\n",
    " \n",
    "    nums = [1, 2, 3, 4, 4]\n",
    "    print('The duplicate element is', findDuplicate(nums))"
   ]
  },
  {
   "cell_type": "markdown",
   "metadata": {},
   "source": [
    "# Using Array Indices, O(n)"
   ]
  },
  {
   "cell_type": "code",
   "execution_count": 30,
   "metadata": {},
   "outputs": [
    {
     "name": "stdout",
     "output_type": "stream",
     "text": [
      "The duplicate element is 4\n"
     ]
    }
   ],
   "source": [
    "# Function to find a duplicate element in a limited range list\n",
    "def findDuplicate(nums):\n",
    "    \n",
    "    duplicate = -1\n",
    " \n",
    "    # do for each element in the list\n",
    "    for i in range(len(nums)):\n",
    " \n",
    "        # get the value of the current element\n",
    "        val = -nums[i] if (nums[i] < 0) else nums[i]\n",
    " \n",
    "        # make element at index `val` negative if it is positive\n",
    "        if nums[val] >= 0:\n",
    "            nums[val] = -nums[val]\n",
    "        else:\n",
    "            # if the element is already negative, it is repeated\n",
    "            duplicate = val\n",
    "            break\n",
    " \n",
    "    # restore the original list before returning\n",
    "    for i in range(len(nums)):\n",
    "        # make negative elements positive\n",
    "        if nums[i] < 0:\n",
    "            nums[i] = -nums[i]\n",
    " \n",
    "    # return duplicate element\n",
    "    return duplicate\n",
    " \n",
    "if __name__ == '__main__':\n",
    " \n",
    "    # input list contains `n` numbers between 1 and `n-1`\n",
    "    # with one duplicate, where `n = len(nums)`\n",
    "    nums = [1, 2, 3, 4, 4]\n",
    " \n",
    "    print('The duplicate element is', findDuplicate(nums))"
   ]
  },
  {
   "cell_type": "code",
   "execution_count": null,
   "metadata": {},
   "outputs": [],
   "source": []
  }
 ],
 "metadata": {
  "kernelspec": {
   "display_name": "Python 3",
   "language": "python",
   "name": "python3"
  },
  "language_info": {
   "codemirror_mode": {
    "name": "ipython",
    "version": 3
   },
   "file_extension": ".py",
   "mimetype": "text/x-python",
   "name": "python",
   "nbconvert_exporter": "python",
   "pygments_lexer": "ipython3",
   "version": "3.7.1"
  }
 },
 "nbformat": 4,
 "nbformat_minor": 2
}
