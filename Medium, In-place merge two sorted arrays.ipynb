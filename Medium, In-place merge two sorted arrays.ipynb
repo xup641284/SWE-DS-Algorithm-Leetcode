{
 "cells": [
  {
   "cell_type": "markdown",
   "metadata": {},
   "source": [
    "# merge sort, O(m.n)"
   ]
  },
  {
   "cell_type": "code",
   "execution_count": 1,
   "metadata": {},
   "outputs": [
    {
     "name": "stdout",
     "output_type": "stream",
     "text": [
      "X: [1, 2, 3, 4, 7]\n",
      "Y: [8, 9, 10]\n"
     ]
    }
   ],
   "source": [
    "# Function to in-place merge two sorted lists `X` and `Y`\n",
    "# invariant: `X` and `Y` are sorted at any point\n",
    "def merge(X, Y):\n",
    " \n",
    "    m = len(X)\n",
    "    n = len(Y)\n",
    " \n",
    "    # Consider each element `X[i]` of list `X[]` and ignore the element if it is\n",
    "    # already in the correct order; otherwise, swap it with the next smaller\n",
    "    # element, which happens to be the first element of `Y[]`.\n",
    "    for i in range(m):\n",
    " \n",
    "        # compare the current element of `X[]` with the first element of `Y[]`\n",
    "        if X[i] > Y[0]:\n",
    " \n",
    "            # swap `X[i]` with `Y[0]`\n",
    "            temp = X[i]\n",
    "            X[i] = Y[0]\n",
    "            Y[0] = temp\n",
    " \n",
    "            first = Y[0]\n",
    " \n",
    "            # move `Y[0]` to its correct position to maintain the sorted\n",
    "            # order of `Y[]`. Note: `Y[1…n-1]` is already sorted\n",
    "            k = 1\n",
    "            while k < n and Y[k] < first:\n",
    "                Y[k - 1] = Y[k]\n",
    "                k = k + 1\n",
    " \n",
    "            Y[k - 1] = first\n",
    "\n",
    "if __name__ == '__main__':\n",
    " \n",
    "    X = [1, 4, 7, 8, 10]\n",
    "    Y = [2, 3, 9]\n",
    " \n",
    "    merge(X, Y)\n",
    " \n",
    "    print(\"X:\", X)\n",
    "    print(\"Y:\", Y)\n",
    " "
   ]
  },
  {
   "cell_type": "code",
   "execution_count": null,
   "metadata": {},
   "outputs": [],
   "source": []
  }
 ],
 "metadata": {
  "kernelspec": {
   "display_name": "Python 3",
   "language": "python",
   "name": "python3"
  },
  "language_info": {
   "codemirror_mode": {
    "name": "ipython",
    "version": 3
   },
   "file_extension": ".py",
   "mimetype": "text/x-python",
   "name": "python",
   "nbconvert_exporter": "python",
   "pygments_lexer": "ipython3",
   "version": "3.7.1"
  }
 },
 "nbformat": 4,
 "nbformat_minor": 2
}
