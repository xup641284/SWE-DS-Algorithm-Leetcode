{
 "cells": [
  {
   "cell_type": "markdown",
   "metadata": {},
   "source": [
    "# Stack"
   ]
  },
  {
   "cell_type": "markdown",
   "metadata": {},
   "source": [
    "# Stack "
   ]
  },
  {
   "cell_type": "code",
   "execution_count": 17,
   "metadata": {},
   "outputs": [
    {
     "name": "stdout",
     "output_type": "stream",
     "text": [
      "aaabcbc\n"
     ]
    }
   ],
   "source": [
    "def decodeString(s):\n",
    "    stack = []\n",
    "    for char in s:\n",
    "        if char == ']':\n",
    "            sub_string = \"\"\n",
    "            while stack and stack[-1] != '[':\n",
    "                # Don't use +=, since the order shouldn't be sub_string = sub_string + stack.pop()\n",
    "                sub_string = stack.pop() + sub_string\n",
    "            stack.pop()  # Pop '['\n",
    "            num = \"\"\n",
    "            while stack and stack[-1].isdigit():\n",
    "                num = stack.pop() + num\n",
    "            if not num or not sub_string:  # Handle missing closing bracket or empty numbers\n",
    "                return \"Error: Invalid Encoded String\"\n",
    "            stack.append(int(num) * sub_string)\n",
    "        else:\n",
    "            stack.append(char)\n",
    "    return \"\".join(stack)\n",
    "\n",
    "s = \"3[a]2[bc]\"\n",
    "print(decodeString(s))  # Output: \"aaabcbc\"\n"
   ]
  },
  {
   "cell_type": "code",
   "execution_count": null,
   "metadata": {},
   "outputs": [],
   "source": []
  }
 ],
 "metadata": {
  "kernelspec": {
   "display_name": "Python 3",
   "language": "python",
   "name": "python3"
  },
  "language_info": {
   "codemirror_mode": {
    "name": "ipython",
    "version": 3
   },
   "file_extension": ".py",
   "mimetype": "text/x-python",
   "name": "python",
   "nbconvert_exporter": "python",
   "pygments_lexer": "ipython3",
   "version": "3.7.1"
  }
 },
 "nbformat": 4,
 "nbformat_minor": 2
}
