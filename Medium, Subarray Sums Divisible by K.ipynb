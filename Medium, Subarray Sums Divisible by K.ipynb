{
 "cells": [
  {
   "cell_type": "code",
   "execution_count": 1,
   "metadata": {},
   "outputs": [
    {
     "name": "stdout",
     "output_type": "stream",
     "text": [
      "7\n"
     ]
    }
   ],
   "source": [
    "def subarrays_divisible_by_k(nums, k):\n",
    "    prefix_sums = {0: 1}\n",
    "    current_sum = 0\n",
    "    count = 0\n",
    "\n",
    "    for num in nums:\n",
    "        current_sum = (current_sum + num) % k\n",
    "        if current_sum in prefix_sums:\n",
    "            count += prefix_sums[current_sum]\n",
    "        prefix_sums[current_sum] = prefix_sums.get(current_sum, 0) + 1\n",
    "\n",
    "    return count\n",
    "\n",
    "# Example usage:\n",
    "nums = [4, 5, 0, -2, -3, 1]\n",
    "k = 5\n",
    "print(subarrays_divisible_by_k(nums, k))  # Output: 7 (Subarrays: [4, 5, 0, -2, -3], [5], [5, 0], [0, -2, -3, 1], [-2, -3, 1], [-3], [1])\n"
   ]
  },
  {
   "cell_type": "code",
   "execution_count": null,
   "metadata": {},
   "outputs": [],
   "source": []
  }
 ],
 "metadata": {
  "kernelspec": {
   "display_name": "Python 3",
   "language": "python",
   "name": "python3"
  },
  "language_info": {
   "codemirror_mode": {
    "name": "ipython",
    "version": 3
   },
   "file_extension": ".py",
   "mimetype": "text/x-python",
   "name": "python",
   "nbconvert_exporter": "python",
   "pygments_lexer": "ipython3",
   "version": "3.7.1"
  }
 },
 "nbformat": 4,
 "nbformat_minor": 2
}
