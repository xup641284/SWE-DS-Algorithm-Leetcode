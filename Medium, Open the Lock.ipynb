{
 "cells": [
  {
   "cell_type": "markdown",
   "metadata": {},
   "source": [
    "# BFS approach"
   ]
  },
  {
   "cell_type": "code",
   "execution_count": 1,
   "metadata": {},
   "outputs": [
    {
     "name": "stdout",
     "output_type": "stream",
     "text": [
      "Minimum number of turns required: 6\n"
     ]
    }
   ],
   "source": [
    "from collections import deque\n",
    "\n",
    "def open_the_lock(deadends, target):\n",
    "    def next_combinations(current_comb):\n",
    "        for i in range(4):\n",
    "            for move in [-1, 1]:\n",
    "                new_digit = (int(current_comb[i]) + move) % 10\n",
    "                yield current_comb[:i] + str(new_digit) + current_comb[i+1:]\n",
    "                \n",
    "               \n",
    "    deadends = set(deadends)\n",
    "    if \"0000\" in deadends:\n",
    "        return -1\n",
    "\n",
    "    queue = deque([(\"0000\", 0)])\n",
    "    visited = set([\"0000\"])\n",
    "\n",
    "    while queue:\n",
    "        current_comb, num_moves = queue.popleft()\n",
    "\n",
    "        if current_comb == target:\n",
    "            return num_moves\n",
    "\n",
    "        for next_comb in next_combinations(current_comb):\n",
    "            if next_comb not in visited and next_comb not in deadends:\n",
    "                visited.add(next_comb)\n",
    "                queue.append((next_comb, num_moves + 1))\n",
    "\n",
    "    return -1\n",
    "\n",
    "# Example usage:\n",
    "deadends = [\"0201\", \"0101\", \"0102\", \"1212\", \"2002\"]\n",
    "target = \"0202\"\n",
    "result = open_the_lock(deadends, target)\n",
    "print(\"Minimum number of turns required:\", result)\n"
   ]
  },
  {
   "cell_type": "code",
   "execution_count": null,
   "metadata": {},
   "outputs": [],
   "source": []
  }
 ],
 "metadata": {
  "kernelspec": {
   "display_name": "Python 3",
   "language": "python",
   "name": "python3"
  },
  "language_info": {
   "codemirror_mode": {
    "name": "ipython",
    "version": 3
   },
   "file_extension": ".py",
   "mimetype": "text/x-python",
   "name": "python",
   "nbconvert_exporter": "python",
   "pygments_lexer": "ipython3",
   "version": "3.7.1"
  }
 },
 "nbformat": 4,
 "nbformat_minor": 2
}
