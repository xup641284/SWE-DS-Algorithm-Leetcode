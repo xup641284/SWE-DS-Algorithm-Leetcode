{
 "cells": [
  {
   "cell_type": "markdown",
   "metadata": {},
   "source": [
    "# Linear-time Solution, O(n)"
   ]
  },
  {
   "cell_type": "code",
   "execution_count": 8,
   "metadata": {},
   "outputs": [
    {
     "name": "stdout",
     "output_type": "stream",
     "text": [
      "The majority element is 2\n"
     ]
    }
   ],
   "source": [
    "# Function to find the majority element present in a given list\n",
    "def findMajorityElement(nums):\n",
    " \n",
    "    # create an empty `HashMap`\n",
    "    d = {}\n",
    " \n",
    "    # store each element's frequency in a dictionary\n",
    "    for i in nums:\n",
    "        d[i] = d.get(i, 0) + 1\n",
    " \n",
    "    # return the element if its count is more than `n/2`\n",
    "    for key, value in d.items():\n",
    "        if value > len(nums) / 2:\n",
    "            return key\n",
    " \n",
    "    # no majority element is present\n",
    "    return -1\n",
    " \n",
    "if __name__ == '__main__':\n",
    " \n",
    "    # assumption: valid input (majority element is present)\n",
    "    nums = [1, 8, 7, 4, 1, 2, 2, 2, 2, 2, 2]\n",
    " \n",
    "    result = findMajorityElement(nums)\n",
    "    if result != -1:\n",
    "        print('The majority element is', result)\n",
    "    else:\n",
    "        print('The majority element doesn\\'t exist')"
   ]
  },
  {
   "cell_type": "markdown",
   "metadata": {},
   "source": [
    "# Boyer–Moore majority vote algorithm"
   ]
  },
  {
   "cell_type": "code",
   "execution_count": 11,
   "metadata": {},
   "outputs": [
    {
     "name": "stdout",
     "output_type": "stream",
     "text": [
      "The majority element is 2\n"
     ]
    }
   ],
   "source": [
    "# Function to find the majority element present in a given list\n",
    "def findMajorityElement(nums):\n",
    " \n",
    "    # `m` stores the majority element (if present)\n",
    "    m = -1\n",
    " \n",
    "    # initialize counter `i` with 0\n",
    "    i = 0\n",
    " \n",
    "    # do for each element `nums[j]` in the list\n",
    "    for j in range(len(nums)):\n",
    " \n",
    "        # if counter `i` becomes 0\n",
    "        if i == 0:\n",
    " \n",
    "            # set the current candidate to `nums[j]`\n",
    "            m = nums[j]\n",
    " \n",
    "            # reset the counter to 1\n",
    "            i = 1\n",
    " \n",
    "        # otherwise, increment the counter if `nums[j]` is a current candidate\n",
    "        elif m == nums[j]:\n",
    "            i = i + 1\n",
    " \n",
    "        # otherwise, decrement the counter if `nums[j]` is a current candidate\n",
    "        else:\n",
    "            i = i - 1\n",
    " \n",
    "    return m\n",
    " \n",
    "if __name__ == '__main__':\n",
    "    # assumption: valid input (majority element is present)\n",
    "    nums = [1, 8, 7, 4, 1, 2, 2, 2, 2, 2, 2]\n",
    " \n",
    "    print('The majority element is', findMajorityElement(nums))\n",
    "    "
   ]
  },
  {
   "cell_type": "code",
   "execution_count": null,
   "metadata": {},
   "outputs": [],
   "source": []
  }
 ],
 "metadata": {
  "kernelspec": {
   "display_name": "Python 3",
   "language": "python",
   "name": "python3"
  },
  "language_info": {
   "codemirror_mode": {
    "name": "ipython",
    "version": 3
   },
   "file_extension": ".py",
   "mimetype": "text/x-python",
   "name": "python",
   "nbconvert_exporter": "python",
   "pygments_lexer": "ipython3",
   "version": "3.7.1"
  }
 },
 "nbformat": 4,
 "nbformat_minor": 2
}
