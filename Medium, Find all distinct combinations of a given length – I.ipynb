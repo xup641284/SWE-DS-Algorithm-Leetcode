{
 "cells": [
  {
   "cell_type": "markdown",
   "metadata": {},
   "source": [
    "#  recursion left to right"
   ]
  },
  {
   "cell_type": "code",
   "execution_count": 1,
   "metadata": {},
   "outputs": [
    {
     "name": "stdout",
     "output_type": "stream",
     "text": [
      "{(1, 2), (1, 3), (2, 3)}\n"
     ]
    }
   ],
   "source": [
    "# Function to print all distinct combinations of length `k`\n",
    "def findCombinations(A, k, subarrays, out=(), i=0):\n",
    " \n",
    "    # invalid input\n",
    "    if len(A) == 0 or k > len(A):\n",
    "        return\n",
    " \n",
    "    # base case: combination size is `k`\n",
    "    if k == 0:\n",
    "        subarrays.add(out)\n",
    "        return\n",
    " \n",
    "    # start from the next index till the last index\n",
    "    for j in range(i, len(A)):\n",
    "        # add current element `A[j]` to the solution and recur for next index\n",
    "        # `j+1` with one less element `k-1`\n",
    "        findCombinations(A, k - 1, subarrays, out + (A[j],), j + 1)\n",
    " \n",
    " \n",
    "if __name__ == '__main__':\n",
    " \n",
    "    A = [1, 2, 3]\n",
    "    k = 2\n",
    " \n",
    "    subarrays = set()\n",
    " \n",
    "    # process elements from left to right\n",
    "    findCombinations(A, k, subarrays)\n",
    "    print(subarrays)"
   ]
  },
  {
   "cell_type": "markdown",
   "metadata": {},
   "source": [
    "# recursion right to left"
   ]
  },
  {
   "cell_type": "code",
   "execution_count": 2,
   "metadata": {},
   "outputs": [
    {
     "name": "stdout",
     "output_type": "stream",
     "text": [
      "{(1, 2), (1, 3), (2, 3)}\n"
     ]
    }
   ],
   "source": [
    "# Function to print all distinct combinations of length `k`\n",
    "def findCombinations(A, n, k, subarrays, out=()):\n",
    " \n",
    "    # invalid input\n",
    "    if len(A) == 0 or k > n:\n",
    "        return\n",
    " \n",
    "    # base case: combination size is `k`\n",
    "    if k == 0:\n",
    "        subarrays.add(out)\n",
    "        return\n",
    " \n",
    "    # start from the next index till the first index\n",
    "    for i in reversed(range(n)):\n",
    "        # add current element `A[i]` to the output and recur for next index\n",
    "        # `i-1` with one less element `k-1`\n",
    "        findCombinations(A, i, k - 1, subarrays, (A[i],) + out)\n",
    " \n",
    " \n",
    "def getDistinctCombinations(A, k):\n",
    "    subarrays = set()\n",
    "    findCombinations(A, len(A), k, subarrays)\n",
    "    return subarrays\n",
    " \n",
    "if __name__ == '__main__':\n",
    " \n",
    "    A = [1, 2, 3]\n",
    "    k = 2\n",
    " \n",
    "    # process elements from right to left\n",
    "    subarrays = getDistinctCombinations(A, k)\n",
    "    print(subarrays)"
   ]
  },
  {
   "cell_type": "code",
   "execution_count": null,
   "metadata": {},
   "outputs": [],
   "source": []
  }
 ],
 "metadata": {
  "kernelspec": {
   "display_name": "Python 3",
   "language": "python",
   "name": "python3"
  },
  "language_info": {
   "codemirror_mode": {
    "name": "ipython",
    "version": 3
   },
   "file_extension": ".py",
   "mimetype": "text/x-python",
   "name": "python",
   "nbconvert_exporter": "python",
   "pygments_lexer": "ipython3",
   "version": "3.7.1"
  }
 },
 "nbformat": 4,
 "nbformat_minor": 2
}
