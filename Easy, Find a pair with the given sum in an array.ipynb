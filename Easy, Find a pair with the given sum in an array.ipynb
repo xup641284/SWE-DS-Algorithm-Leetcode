{
 "cells": [
  {
   "cell_type": "markdown",
   "metadata": {},
   "source": [
    "# Brute Force, O(n2) "
   ]
  },
  {
   "cell_type": "code",
   "execution_count": 12,
   "metadata": {},
   "outputs": [
    {
     "name": "stdout",
     "output_type": "stream",
     "text": [
      "Pair found (8, 2)\n"
     ]
    }
   ],
   "source": [
    "# Naive method to find a pair in a list with the given sum\n",
    "def findPair(nums, target):\n",
    " \n",
    "    # consider each element except the last\n",
    "    for i in range(len(nums) - 1):\n",
    " \n",
    "        # start from the i'th element until the last element\n",
    "        for j in range(i + 1, len(nums)):\n",
    " \n",
    "            # if the desired sum is found, print it\n",
    "            if nums[i] + nums[j] == target:\n",
    "                print('Pair found', (nums[i], nums[j]))\n",
    "                return \n",
    "            \n",
    "    # No pair with the given sum exists in the list\n",
    "    else:\n",
    "        print('Pair not found')\n",
    " \n",
    " \n",
    "if __name__ == '__main__':\n",
    " \n",
    "    nums = [8, 7, 2, 5, 3, 1]\n",
    "    target = 10\n",
    " \n",
    "    findPair(nums, target)"
   ]
  },
  {
   "cell_type": "markdown",
   "metadata": {},
   "source": [
    "# Sorting,  O(n.log(n))"
   ]
  },
  {
   "cell_type": "code",
   "execution_count": 13,
   "metadata": {},
   "outputs": [
    {
     "name": "stdout",
     "output_type": "stream",
     "text": [
      "Pair found (2, 8)\n"
     ]
    }
   ],
   "source": [
    "# Function to find a pair in an array with a given sum using sorting\n",
    "def findPair(nums, target):\n",
    " \n",
    "    # sort the list in ascending order\n",
    "    nums.sort()\n",
    " \n",
    "    # maintain two indices pointing to endpoints of the list\n",
    "    (low, high) = (0, len(nums) - 1)\n",
    " \n",
    "    # reduce the search space `nums[low…high]` at each iteration of the loop\n",
    " \n",
    "    # loop till the search space is exhausted\n",
    "    while low < high:\n",
    " \n",
    "        if nums[low] + nums[high] == target:        # target found\n",
    "            print('Pair found', (nums[low], nums[high]))\n",
    "            return\n",
    " \n",
    "        # increment `low` index if the total is less than the desired sum;\n",
    "        # decrement `high` index if the total is more than the desired sum\n",
    "        if nums[low] + nums[high] < target:\n",
    "            low = low + 1\n",
    "        else:\n",
    "            high = high - 1\n",
    " \n",
    "    # No pair with the given sum exists\n",
    "    print('Pair not found')\n",
    "\n",
    "if __name__ == '__main__':\n",
    " \n",
    "    nums = [8, 7, 2, 5, 3, 1]\n",
    "    target = 10\n",
    " \n",
    "    findPair(nums, target)"
   ]
  },
  {
   "cell_type": "markdown",
   "metadata": {},
   "source": [
    "# Hashing, O(n)"
   ]
  },
  {
   "cell_type": "code",
   "execution_count": 28,
   "metadata": {},
   "outputs": [
    {
     "name": "stdout",
     "output_type": "stream",
     "text": [
      "Pair found (8, 2)\n"
     ]
    }
   ],
   "source": [
    "# Function to find a pair in an array with a given sum using hashing\n",
    "def findPair(nums, target):\n",
    " \n",
    "    # create an empty dictionary\n",
    "    d = {}\n",
    " \n",
    "    # do for each element\n",
    "    for i, e in enumerate(nums):\n",
    " \n",
    "        # check if pair (e, target - e) exists\n",
    " \n",
    "        # if the difference is seen before, print the pair\n",
    "        if target - e in d:\n",
    "            print('Pair found', (nums[d.get(target - e)], nums[i]))\n",
    "            return\n",
    " \n",
    "        # store index of the current element in the dictionary\n",
    "        d[e] = i\n",
    " \n",
    "    # No pair with the given sum exists in the list\n",
    "    print('Pair not found')\n",
    " \n",
    " \n",
    "if __name__ == '__main__':\n",
    " \n",
    "    nums = [8, 7, 2, 5, 3, 1]\n",
    "    target = 10\n",
    " \n",
    "    findPair(nums, target)"
   ]
  },
  {
   "cell_type": "code",
   "execution_count": null,
   "metadata": {},
   "outputs": [],
   "source": []
  }
 ],
 "metadata": {
  "kernelspec": {
   "display_name": "Python 3",
   "language": "python",
   "name": "python3"
  },
  "language_info": {
   "codemirror_mode": {
    "name": "ipython",
    "version": 3
   },
   "file_extension": ".py",
   "mimetype": "text/x-python",
   "name": "python",
   "nbconvert_exporter": "python",
   "pygments_lexer": "ipython3",
   "version": "3.7.1"
  }
 },
 "nbformat": 4,
 "nbformat_minor": 2
}
