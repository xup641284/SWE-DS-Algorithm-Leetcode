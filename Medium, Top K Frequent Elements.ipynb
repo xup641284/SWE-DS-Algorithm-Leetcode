{
 "cells": [
  {
   "cell_type": "code",
   "execution_count": 1,
   "metadata": {},
   "outputs": [
    {
     "name": "stdout",
     "output_type": "stream",
     "text": [
      "[1, 2]\n"
     ]
    }
   ],
   "source": [
    "def top_k_frequent(nums, k):\n",
    "    freq_map = {}\n",
    "    for num in nums:\n",
    "        freq_map[num] = freq_map.get(num, 0) + 1\n",
    "\n",
    "    sorted_freq = sorted(freq_map.items(), key=lambda x: x[1], reverse=True)\n",
    "    return [num for num, _ in sorted_freq[:k]]\n",
    "\n",
    "# Example usage:\n",
    "nums = [1, 1, 1, 2, 2, 3]\n",
    "k = 2\n",
    "print(top_k_frequent(nums, k))  # Output: [1, 2] (Most frequent elements: 1 and 2)\n"
   ]
  },
  {
   "cell_type": "code",
   "execution_count": null,
   "metadata": {},
   "outputs": [],
   "source": []
  }
 ],
 "metadata": {
  "kernelspec": {
   "display_name": "Python 3",
   "language": "python",
   "name": "python3"
  },
  "language_info": {
   "codemirror_mode": {
    "name": "ipython",
    "version": 3
   },
   "file_extension": ".py",
   "mimetype": "text/x-python",
   "name": "python",
   "nbconvert_exporter": "python",
   "pygments_lexer": "ipython3",
   "version": "3.7.1"
  }
 },
 "nbformat": 4,
 "nbformat_minor": 2
}
