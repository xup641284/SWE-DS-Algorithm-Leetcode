{
 "cells": [
  {
   "cell_type": "code",
   "execution_count": 1,
   "metadata": {},
   "outputs": [
    {
     "name": "stdout",
     "output_type": "stream",
     "text": [
      "21\n"
     ]
    }
   ],
   "source": [
    "def next_greater_element(n):\n",
    "    # Convert the integer n into a list of digits\n",
    "    digits = list(str(n))\n",
    "    i = len(digits) - 2\n",
    "\n",
    "    # Find the first decreasing digit from the right\n",
    "    while i >= 0 and digits[i] >= digits[i + 1]:\n",
    "        i -= 1\n",
    "\n",
    "    if i == -1:\n",
    "        return -1  # No next greater element exists\n",
    "\n",
    "    # Find the smallest digit to the right of i that is greater than digits[i]\n",
    "    j = len(digits) - 1\n",
    "    while digits[j] <= digits[i]:\n",
    "        j -= 1\n",
    "\n",
    "    # Swap digits[i] and digits[j]\n",
    "    digits[i], digits[j] = digits[j], digits[i]\n",
    "\n",
    "    # Reverse the digits to the right of i\n",
    "    digits[i + 1:] = reversed(digits[i + 1:])\n",
    "\n",
    "    # Convert the list of digits back to an integer\n",
    "    next_greater = int(''.join(digits))\n",
    "\n",
    "    # Check if the result is within the range of 32-bit signed integer\n",
    "    if next_greater > 2 ** 31 - 1:\n",
    "        return -1\n",
    "\n",
    "    return next_greater\n",
    "\n",
    "# Example usage:\n",
    "n = 12\n",
    "print(next_greater_element(n))  # Output: 21\n"
   ]
  },
  {
   "cell_type": "code",
   "execution_count": null,
   "metadata": {},
   "outputs": [],
   "source": []
  }
 ],
 "metadata": {
  "kernelspec": {
   "display_name": "Python 3",
   "language": "python",
   "name": "python3"
  },
  "language_info": {
   "codemirror_mode": {
    "name": "ipython",
    "version": 3
   },
   "file_extension": ".py",
   "mimetype": "text/x-python",
   "name": "python",
   "nbconvert_exporter": "python",
   "pygments_lexer": "ipython3",
   "version": "3.7.1"
  }
 },
 "nbformat": 4,
 "nbformat_minor": 2
}
