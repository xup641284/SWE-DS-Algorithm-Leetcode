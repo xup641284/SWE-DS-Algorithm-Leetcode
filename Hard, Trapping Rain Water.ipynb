{
 "cells": [
  {
   "cell_type": "code",
   "execution_count": 1,
   "metadata": {},
   "outputs": [
    {
     "name": "stdout",
     "output_type": "stream",
     "text": [
      "6\n"
     ]
    }
   ],
   "source": [
    "def trap(height):\n",
    "    if not height:\n",
    "        return 0\n",
    "\n",
    "    stack = []\n",
    "    water = 0\n",
    "\n",
    "    for i, h in enumerate(height):\n",
    "        while stack and h > height[stack[-1]]:\n",
    "            top = stack.pop()\n",
    "            if not stack:\n",
    "                break\n",
    "            distance = i - stack[-1] - 1\n",
    "            bounded_height = min(h, height[stack[-1]]) - height[top]\n",
    "            water += distance * bounded_height\n",
    "\n",
    "        stack.append(i)\n",
    "\n",
    "    return water\n",
    "\n",
    "# Example usage:\n",
    "height = [0,1,0,2,1,0,1,3,2,1,2,1]\n",
    "print(trap(height))  # Output: 6\n"
   ]
  },
  {
   "cell_type": "code",
   "execution_count": null,
   "metadata": {},
   "outputs": [],
   "source": []
  }
 ],
 "metadata": {
  "kernelspec": {
   "display_name": "Python 3",
   "language": "python",
   "name": "python3"
  },
  "language_info": {
   "codemirror_mode": {
    "name": "ipython",
    "version": 3
   },
   "file_extension": ".py",
   "mimetype": "text/x-python",
   "name": "python",
   "nbconvert_exporter": "python",
   "pygments_lexer": "ipython3",
   "version": "3.7.1"
  }
 },
 "nbformat": 4,
 "nbformat_minor": 2
}
