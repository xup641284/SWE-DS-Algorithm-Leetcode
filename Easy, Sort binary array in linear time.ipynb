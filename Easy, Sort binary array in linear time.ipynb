{
 "cells": [
  {
   "cell_type": "markdown",
   "metadata": {},
   "source": [
    "# Count, O(n)"
   ]
  },
  {
   "cell_type": "code",
   "execution_count": 6,
   "metadata": {},
   "outputs": [
    {
     "name": "stdout",
     "output_type": "stream",
     "text": [
      "5\n",
      "4\n",
      "3\n",
      "2\n",
      "1\n",
      "0\n",
      "[0, 0, 0, 0, 0, 0, 1, 1, 1, 1]\n"
     ]
    }
   ],
   "source": [
    "# Function to sort a binary list in linear time\n",
    "def sort(A):\n",
    " \n",
    "    # count number of 0's\n",
    "    zeros = A.count(0)\n",
    "    \n",
    "    # put 0's at the beginning\n",
    "    k = 0\n",
    "    while zeros:\n",
    "        A[k] = 0\n",
    "        zeros = zeros - 1\n",
    "        k = k + 1\n",
    " \n",
    "    # fill all remaining elements by 1\n",
    "    for k in range(k, len(A)):\n",
    "        A[k] = 1\n",
    " \n",
    " \n",
    "if __name__ == '__main__':\n",
    " \n",
    "    A = [0, 0, 1, 0, 1, 1, 0, 1, 0, 0]\n",
    " \n",
    "    sort(A)\n",
    " \n",
    "    # print the rearranged list\n",
    "    print(A)"
   ]
  },
  {
   "cell_type": "markdown",
   "metadata": {},
   "source": [
    "# Quicksort, O(n)"
   ]
  },
  {
   "cell_type": "code",
   "execution_count": 5,
   "metadata": {},
   "outputs": [
    {
     "name": "stdout",
     "output_type": "stream",
     "text": [
      "[0, 0, 0, 0, 0, 0, 1, 1, 1, 1]\n"
     ]
    }
   ],
   "source": [
    "# Function to sort a binary array in linear time\n",
    "def sort(A):\n",
    " \n",
    "    pivot = 1\n",
    "    j = 0\n",
    " \n",
    "    # each time we encounter 0, `j` is incremented, and\n",
    "    # 0 is placed before the pivot\n",
    "    for i in range(len(A)):\n",
    "        if A[i] < pivot:\n",
    "            swap(A, i, j)\n",
    "            j = j + 1\n",
    " \n",
    " \n",
    "# Utility function to swap elements at two indices in a given list\n",
    "def swap(A, i, j):\n",
    " \n",
    "    temp = A[i]\n",
    "    A[i] = A[j]\n",
    "    A[j] = temp\n",
    " \n",
    " \n",
    "if __name__ == '__main__':\n",
    " \n",
    "    A = [0, 0, 1, 0, 1, 1, 0, 1, 0, 0]\n",
    "    sort(A)\n",
    " \n",
    "    # print the rearranged list\n",
    "    print(A)"
   ]
  },
  {
   "cell_type": "code",
   "execution_count": null,
   "metadata": {},
   "outputs": [],
   "source": []
  }
 ],
 "metadata": {
  "kernelspec": {
   "display_name": "Python 3",
   "language": "python",
   "name": "python3"
  },
  "language_info": {
   "codemirror_mode": {
    "name": "ipython",
    "version": 3
   },
   "file_extension": ".py",
   "mimetype": "text/x-python",
   "name": "python",
   "nbconvert_exporter": "python",
   "pygments_lexer": "ipython3",
   "version": "3.7.1"
  }
 },
 "nbformat": 4,
 "nbformat_minor": 2
}
