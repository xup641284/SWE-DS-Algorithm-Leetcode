{
 "cells": [
  {
   "cell_type": "markdown",
   "metadata": {},
   "source": [
    "# Iterative"
   ]
  },
  {
   "cell_type": "code",
   "execution_count": 1,
   "metadata": {},
   "outputs": [
    {
     "name": "stdout",
     "output_type": "stream",
     "text": [
      "Element found at index 1\n"
     ]
    }
   ],
   "source": [
    "# Function to determine if a `target` exists in the sorted list `nums`\n",
    "# or not using a binary search algorithm\n",
    "def binarySearch(nums, target):\n",
    " \n",
    "    # search space is nums[left…right]\n",
    "    (left, right) = (0, len(nums) - 1)\n",
    " \n",
    "    # loop till the search space is exhausted\n",
    "    while left <= right:\n",
    " \n",
    "        # find the mid-value in the search space and\n",
    "        # compares it with the target\n",
    " \n",
    "        mid = (left + right) // 2\n",
    " \n",
    "        # overflow can happen. Use:\n",
    "        # mid = left + (right - left) / 2\n",
    "        # mid = right - (right - left) // 2\n",
    " \n",
    "        # target is found\n",
    "        if target == nums[mid]:\n",
    "            return mid\n",
    " \n",
    "        # discard all elements in the right search space,\n",
    "        # including the middle element\n",
    "        elif target < nums[mid]:\n",
    "            right = mid - 1\n",
    " \n",
    "        # discard all elements in the left search space,\n",
    "        # including the middle element\n",
    "        else:\n",
    "            left = mid + 1\n",
    " \n",
    "    # `target` doesn't exist in the list\n",
    "    return -1\n",
    " \n",
    "if __name__ == '__main__':\n",
    " \n",
    "    nums = [2, 5, 6, 8, 9, 10]\n",
    "    target = 5\n",
    " \n",
    "    index = binarySearch(nums, target)\n",
    " \n",
    "    if index != -1:\n",
    "        print('Element found at index', index)\n",
    "    else:\n",
    "        print('Element found not in the list')\n",
    " "
   ]
  },
  {
   "cell_type": "markdown",
   "metadata": {},
   "source": [
    "# Recursive"
   ]
  },
  {
   "cell_type": "code",
   "execution_count": 2,
   "metadata": {},
   "outputs": [
    {
     "name": "stdout",
     "output_type": "stream",
     "text": [
      "Element found at index 1\n"
     ]
    }
   ],
   "source": [
    "# Recursive implementation of the binary search algorithm to return\n",
    "# the position of `target` in subarray nums[left…right]\n",
    "def binarySearch(nums, left, right, target):\n",
    " \n",
    "    # Base condition (search space is exhausted)\n",
    "    if left > right:\n",
    "        return -1\n",
    " \n",
    "    # find the mid-value in the search space and\n",
    "    # compares it with the target\n",
    " \n",
    "    mid = (left + right) // 2\n",
    " \n",
    "    # overflow can happen. Use below\n",
    "    # mid = left + (right - left) / 2\n",
    " \n",
    "    # Base condition (a target is found)\n",
    "    if target == nums[mid]:\n",
    "        return mid\n",
    " \n",
    "    # discard all elements in the right search space,\n",
    "    # including the middle element\n",
    "    elif target < nums[mid]:\n",
    "        return binarySearch(nums, left, mid - 1, target)\n",
    " \n",
    "    # discard all elements in the left search space,\n",
    "    # including the middle element\n",
    "    else:\n",
    "        return binarySearch(nums, mid + 1, right, target)\n",
    " \n",
    " \n",
    "if __name__ == '__main__':\n",
    " \n",
    "    nums = [2, 5, 6, 8, 9, 10]\n",
    "    target = 5\n",
    " \n",
    "    (left, right) = (0, len(nums) - 1)\n",
    "    index = binarySearch(nums, left, right, target)\n",
    " \n",
    "    if index != -1:\n",
    "        print('Element found at index', index)\n",
    "    else:\n",
    "        print('Element found not in the list')"
   ]
  },
  {
   "cell_type": "code",
   "execution_count": null,
   "metadata": {},
   "outputs": [],
   "source": []
  }
 ],
 "metadata": {
  "kernelspec": {
   "display_name": "Python 3",
   "language": "python",
   "name": "python3"
  },
  "language_info": {
   "codemirror_mode": {
    "name": "ipython",
    "version": 3
   },
   "file_extension": ".py",
   "mimetype": "text/x-python",
   "name": "python",
   "nbconvert_exporter": "python",
   "pygments_lexer": "ipython3",
   "version": "3.7.1"
  }
 },
 "nbformat": 4,
 "nbformat_minor": 2
}
