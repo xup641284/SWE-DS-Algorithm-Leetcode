{
 "cells": [
  {
   "cell_type": "code",
   "execution_count": 1,
   "metadata": {},
   "outputs": [
    {
     "name": "stdout",
     "output_type": "stream",
     "text": [
      "[[1, 5], [6, 9]]\n"
     ]
    }
   ],
   "source": [
    "def insert_interval(intervals, newInterval):\n",
    "    merged = []\n",
    "    i = 0\n",
    "\n",
    "    # Add intervals that come before the new interval\n",
    "    while i < len(intervals) and intervals[i][1] < newInterval[0]:\n",
    "        merged.append(intervals[i])\n",
    "        i += 1\n",
    "\n",
    "    # Merge overlapping intervals with the new interval\n",
    "    while i < len(intervals) and intervals[i][0] <= newInterval[1]:\n",
    "        newInterval[0] = min(newInterval[0], intervals[i][0])\n",
    "        newInterval[1] = max(newInterval[1], intervals[i][1])\n",
    "        i += 1\n",
    "\n",
    "    # Add the merged new interval to the list\n",
    "    merged.append(newInterval)\n",
    "\n",
    "    # Add the remaining intervals\n",
    "    while i < len(intervals):\n",
    "        merged.append(intervals[i])\n",
    "        i += 1\n",
    "\n",
    "    return merged\n",
    "\n",
    "# Example usage:\n",
    "intervals = [[1, 3], [6, 9]]\n",
    "newInterval = [2, 5]\n",
    "merged_intervals = insert_interval(intervals, newInterval)\n",
    "print(merged_intervals)  # Output: [[1, 5], [6, 9]]\n"
   ]
  },
  {
   "cell_type": "code",
   "execution_count": null,
   "metadata": {},
   "outputs": [],
   "source": []
  }
 ],
 "metadata": {
  "kernelspec": {
   "display_name": "Python 3",
   "language": "python",
   "name": "python3"
  },
  "language_info": {
   "codemirror_mode": {
    "name": "ipython",
    "version": 3
   },
   "file_extension": ".py",
   "mimetype": "text/x-python",
   "name": "python",
   "nbconvert_exporter": "python",
   "pygments_lexer": "ipython3",
   "version": "3.7.1"
  }
 },
 "nbformat": 4,
 "nbformat_minor": 2
}
