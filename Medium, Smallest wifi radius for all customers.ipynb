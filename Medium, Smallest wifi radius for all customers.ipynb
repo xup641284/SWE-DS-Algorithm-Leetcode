{
 "cells": [
  {
   "cell_type": "markdown",
   "metadata": {},
   "source": [
    "# Binary search"
   ]
  },
  {
   "cell_type": "code",
   "execution_count": 12,
   "metadata": {},
   "outputs": [
    {
     "name": "stdout",
     "output_type": "stream",
     "text": [
      "2\n"
     ]
    }
   ],
   "source": [
    "def smallest_wifi_radius(wifi_stations, customers):\n",
    "    w, n = len(wifi_stations), len(customers)\n",
    "    min_radius = 0\n",
    "\n",
    "    # Function to check if a given radius covers all customers\n",
    "    def covers_all(radius):\n",
    "        wifi_idx = 0\n",
    "        for customer in customers:\n",
    "            # Check if the customer is within the radius of the current WiFi station\n",
    "            while wifi_idx < w and abs(wifi_stations[wifi_idx] - customer) > radius:\n",
    "                wifi_idx += 1\n",
    "\n",
    "            # If no WiFi station can cover the customer within the radius, return False\n",
    "            if wifi_idx == w:\n",
    "                return False\n",
    "\n",
    "        # If all customers are covered within the radius, return True\n",
    "        return True\n",
    "\n",
    "    # Sort the WiFi stations (only needed if they are not sorted)\n",
    "    wifi_stations.sort()\n",
    "\n",
    "    # Calculate the median customer position\n",
    "    median_customer = customers[n // 2]\n",
    "\n",
    "    # Perform binary search to find the minimum radius\n",
    "    left, right = 0, max(median_customer, wifi_stations[-1] - median_customer)\n",
    "    while left <= right:\n",
    "        mid = (left + right) // 2\n",
    "        if covers_all(mid):\n",
    "            # If all customers are covered with the current radius, update min_radius and search for a smaller radius\n",
    "            min_radius = mid\n",
    "            right = mid - 1\n",
    "        else:\n",
    "            # If not all customers are covered, search for a larger radius\n",
    "            left = mid + 1\n",
    "\n",
    "    return min_radius\n",
    "\n",
    "# Example usage:\n",
    "wifi_stations = [2, 5, 10, 15]\n",
    "customers = [7, 9, 12]\n",
    "print(smallest_wifi_radius(wifi_stations, customers))  # Output: 2 (The smallest radius to cover all customers)\n"
   ]
  },
  {
   "cell_type": "code",
   "execution_count": null,
   "metadata": {},
   "outputs": [],
   "source": []
  }
 ],
 "metadata": {
  "kernelspec": {
   "display_name": "Python 3",
   "language": "python",
   "name": "python3"
  },
  "language_info": {
   "codemirror_mode": {
    "name": "ipython",
    "version": 3
   },
   "file_extension": ".py",
   "mimetype": "text/x-python",
   "name": "python",
   "nbconvert_exporter": "python",
   "pygments_lexer": "ipython3",
   "version": "3.7.1"
  }
 },
 "nbformat": 4,
 "nbformat_minor": 2
}
