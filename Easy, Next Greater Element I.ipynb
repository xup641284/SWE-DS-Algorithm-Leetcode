{
 "cells": [
  {
   "cell_type": "code",
   "execution_count": 3,
   "metadata": {},
   "outputs": [
    {
     "name": "stdout",
     "output_type": "stream",
     "text": [
      "[-1, 3, -1]\n"
     ]
    }
   ],
   "source": [
    "def next_greater_element(nums1, nums2):\n",
    "    stack = []\n",
    "    next_greater = {}\n",
    "    result = []\n",
    "\n",
    "    for num in nums2:\n",
    "        while stack and stack[-1] < num:\n",
    "            next_greater[stack.pop()] = num\n",
    "        stack.append(num)\n",
    "\n",
    "    for num in nums1:\n",
    "        result.append(next_greater.get(num, -1))\n",
    "\n",
    "    return result\n",
    "\n",
    "# Example usage:\n",
    "nums1 = [4, 1, 2]\n",
    "nums2 = [1, 3, 4, 2]\n",
    "print(next_greater_element(nums1, nums2))  # Output: [-1, 3, -1]\n"
   ]
  },
  {
   "cell_type": "code",
   "execution_count": null,
   "metadata": {},
   "outputs": [],
   "source": []
  }
 ],
 "metadata": {
  "kernelspec": {
   "display_name": "Python 3",
   "language": "python",
   "name": "python3"
  },
  "language_info": {
   "codemirror_mode": {
    "name": "ipython",
    "version": 3
   },
   "file_extension": ".py",
   "mimetype": "text/x-python",
   "name": "python",
   "nbconvert_exporter": "python",
   "pygments_lexer": "ipython3",
   "version": "3.7.1"
  }
 },
 "nbformat": 4,
 "nbformat_minor": 2
}
