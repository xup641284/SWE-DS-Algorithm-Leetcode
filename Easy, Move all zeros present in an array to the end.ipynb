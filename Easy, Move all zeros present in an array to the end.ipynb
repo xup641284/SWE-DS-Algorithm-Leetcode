{
 "cells": [
  {
   "cell_type": "markdown",
   "metadata": {},
   "source": [
    "# Non zero first, O(n)"
   ]
  },
  {
   "cell_type": "code",
   "execution_count": 6,
   "metadata": {},
   "outputs": [
    {
     "name": "stdout",
     "output_type": "stream",
     "text": [
      "6\n",
      "8\n",
      "2\n",
      "3\n",
      "4\n",
      "1\n",
      "[6, 8, 2, 3, 4, 1, 0, 0, 0]\n"
     ]
    }
   ],
   "source": [
    "# Function to move all zeros present in the list to the end\n",
    "def reorder(A):\n",
    " \n",
    "    # `k` stores the index of the next available position\n",
    "    k = 0\n",
    " \n",
    "    # do for each element\n",
    "    for i in A:\n",
    "        # if the current element is non-zero, put the element at the\n",
    "        # next free position in the list\n",
    "        if i:\n",
    "            A[k] = i\n",
    "            k = k + 1\n",
    " \n",
    "    # move all 0's to the end of the list (remaining indices)\n",
    "    for i in range(k, len(A)):\n",
    "        A[i] = 0\n",
    " \n",
    " \n",
    "if __name__ == '__main__':\n",
    " \n",
    "    A = [6, 0, 8, 2, 3, 0, 4, 0, 1]\n",
    " \n",
    "    reorder(A)\n",
    "    print(A)"
   ]
  },
  {
   "cell_type": "markdown",
   "metadata": {},
   "source": [
    "# Quicksort, O(n)"
   ]
  },
  {
   "cell_type": "code",
   "execution_count": 4,
   "metadata": {},
   "outputs": [
    {
     "name": "stdout",
     "output_type": "stream",
     "text": [
      "[6, 8, 2, 3, 4, 1, 0, 0, 0]\n"
     ]
    }
   ],
   "source": [
    "def swap(A, i, j):\n",
    " \n",
    "    temp = A[i]\n",
    "    A[i] = A[j]\n",
    "    A[j] = temp\n",
    " \n",
    " \n",
    "# Function to move all zeros present in a list to the end\n",
    "def partition(A):\n",
    "    \n",
    "    pivot = 0\n",
    "    j = 0\n",
    " \n",
    "    # each time we encounter a non-zero, `j` is incremented, and\n",
    "    # the element is placed before the pivot\n",
    "    for i in range(len(A)):\n",
    "        if A[i] > pivot:            # pivot is 0\n",
    "            swap(A, i, j)\n",
    "            j = j + 1\n",
    " \n",
    " \n",
    "if __name__ == '__main__':\n",
    " \n",
    "    A = [6, 0, 8, 2, 3, 0, 4, 0, 1]\n",
    " \n",
    "    partition(A)\n",
    "    print(A)\n",
    " "
   ]
  },
  {
   "cell_type": "code",
   "execution_count": null,
   "metadata": {},
   "outputs": [],
   "source": []
  }
 ],
 "metadata": {
  "kernelspec": {
   "display_name": "Python 3",
   "language": "python",
   "name": "python3"
  },
  "language_info": {
   "codemirror_mode": {
    "name": "ipython",
    "version": 3
   },
   "file_extension": ".py",
   "mimetype": "text/x-python",
   "name": "python",
   "nbconvert_exporter": "python",
   "pygments_lexer": "ipython3",
   "version": "3.7.1"
  }
 },
 "nbformat": 4,
 "nbformat_minor": 2
}
