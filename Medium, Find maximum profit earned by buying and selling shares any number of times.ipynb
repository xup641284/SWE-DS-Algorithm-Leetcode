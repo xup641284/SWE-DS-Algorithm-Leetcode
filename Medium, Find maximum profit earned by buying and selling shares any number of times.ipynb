{
 "cells": [
  {
   "cell_type": "markdown",
   "metadata": {},
   "source": [
    "# find local minimum, previous <= current > next, O(n) "
   ]
  },
  {
   "cell_type": "code",
   "execution_count": 1,
   "metadata": {},
   "outputs": [
    {
     "name": "stdout",
     "output_type": "stream",
     "text": [
      "Buy on day 1 and sell on day 2, buy price = 1 with sell price = 5\n",
      "Buy on day 3 and sell on day 5, buy price = 2 with sell price = 7\n",
      "Buy on day 7 and sell on day 8, buy price = 4 with sell price = 5\n",
      "\n",
      "Total profit earned is 10\n"
     ]
    }
   ],
   "source": [
    "# Function to find the maximum profit earned by buying and\n",
    "# selling shares any number of times\n",
    "def findMaxProfit(price):\n",
    " \n",
    "    # keep track of the maximum profit gained\n",
    "    profit = 0\n",
    " \n",
    "    # initialize the local minimum to the first element's index\n",
    "    j = 0\n",
    " \n",
    "    # start from the second element\n",
    "    for i in range(1, len(price)):\n",
    " \n",
    "        # update the local minimum if a decreasing sequence is found\n",
    "        if price[i - 1] > price[i]:\n",
    "            j = i\n",
    " \n",
    "        # sell shares if the current element is the peak, i.e.,\n",
    "        # (`previous <= current > next`)\n",
    "        if price[i - 1] <= price[i] and (i + 1 == len(price) or price[i] > price[i + 1]):\n",
    "            profit += (price[i] - price[j])\n",
    "            print(f\"Buy on day {j + 1} and sell on day {i + 1}, buy price = {price[j]} with sell price = {price[i]}\")\n",
    " \n",
    "    return profit\n",
    "\n",
    "if __name__ == '__main__':\n",
    " \n",
    "    price = [1, 5, 2, 3, 7, 6, 4, 5]\n",
    "    print(\"\\nTotal profit earned is\", findMaxProfit(price))\n",
    " "
   ]
  },
  {
   "cell_type": "code",
   "execution_count": null,
   "metadata": {},
   "outputs": [],
   "source": []
  }
 ],
 "metadata": {
  "kernelspec": {
   "display_name": "Python 3",
   "language": "python",
   "name": "python3"
  },
  "language_info": {
   "codemirror_mode": {
    "name": "ipython",
    "version": 3
   },
   "file_extension": ".py",
   "mimetype": "text/x-python",
   "name": "python",
   "nbconvert_exporter": "python",
   "pygments_lexer": "ipython3",
   "version": "3.7.1"
  }
 },
 "nbformat": 4,
 "nbformat_minor": 2
}
