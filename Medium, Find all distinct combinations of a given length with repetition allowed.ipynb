{
 "cells": [
  {
   "cell_type": "markdown",
   "metadata": {},
   "source": [
    "# Recursion"
   ]
  },
  {
   "cell_type": "code",
   "execution_count": 4,
   "metadata": {},
   "outputs": [
    {
     "name": "stdout",
     "output_type": "stream",
     "text": [
      "[1, 1]\n",
      "[1, 2]\n",
      "[1, 1]\n",
      "[2, 2]\n",
      "[2, 1]\n",
      "[1, 1]\n"
     ]
    }
   ],
   "source": [
    "# Function to print all distinct combinations of length `k`, where the\n",
    "# repetition of elements is allowed\n",
    "def findCombinations(A, out, k, i, n):\n",
    " \n",
    "    # base case: if the combination size is `k`, print it\n",
    "    if len(out) == k:\n",
    "        print(out)\n",
    "        return\n",
    " \n",
    "    # start from the previous element in the current combination\n",
    "    # till the last element\n",
    "    for j in range(i, n):\n",
    " \n",
    "        # add current element `A[j]` to the solution and recur with the\n",
    "        # same index `j` (as repeated elements are allowed in combinations)\n",
    "        out.append(A[j])\n",
    "        findCombinations(A, out, k, j, n)\n",
    " \n",
    "        # backtrack: remove the current element from the solution\n",
    "        out.pop()\n",
    " \n",
    " \n",
    "if __name__ == '__main__':\n",
    " \n",
    "    A = [1, 2, 1]\n",
    "    k = 2\n",
    " \n",
    "    out = []\n",
    "    findCombinations(A, out, k, 0, len(A))"
   ]
  },
  {
   "cell_type": "markdown",
   "metadata": {},
   "source": [
    "# Recursion distinct set"
   ]
  },
  {
   "cell_type": "code",
   "execution_count": 9,
   "metadata": {},
   "outputs": [
    {
     "name": "stdout",
     "output_type": "stream",
     "text": [
      "[1, 1]\n",
      "[1, 2]\n",
      "[2, 2]\n"
     ]
    }
   ],
   "source": [
    "# Function to print all distinct combinations of length `k`, where the\n",
    "# repetition of elements is allowed\n",
    "def findCombinations(A, k, i=0, out=[]):\n",
    " \n",
    "    # base case: if the combination size is `k`, print it\n",
    "    if len(out) == k:\n",
    "        print(out)\n",
    "        return\n",
    " \n",
    "    # start from the previous element in the current combination\n",
    "    # till the last element\n",
    "    j = i\n",
    "    while j < len(A):\n",
    " \n",
    "        # add current element `A[j]` to the solution and recur with the\n",
    "        # same index `j` (as repeated elements are allowed in combinations)\n",
    "        out.append(A[j])\n",
    "        findCombinations(A, k, j, out)\n",
    " \n",
    "        # backtrack: remove the current element from the solution\n",
    "        out.pop()\n",
    " \n",
    "        # code to handle duplicates – skip adjacent duplicates\n",
    "        while j < len(A) - 1 and A[j] == A[j + 1]:\n",
    "            j = j + 1\n",
    "        j = j + 1\n",
    " \n",
    " \n",
    "if __name__ == '__main__':\n",
    " \n",
    "    A = [1, 2, 1]\n",
    "    k = 2\n",
    " \n",
    "    # if the list contains repeated elements, sort the list to\n",
    "    # handle duplicates combinations\n",
    "    A.sort()\n",
    " \n",
    "    findCombinations(A, k)\n",
    " "
   ]
  },
  {
   "cell_type": "code",
   "execution_count": null,
   "metadata": {},
   "outputs": [],
   "source": []
  }
 ],
 "metadata": {
  "kernelspec": {
   "display_name": "Python 3",
   "language": "python",
   "name": "python3"
  },
  "language_info": {
   "codemirror_mode": {
    "name": "ipython",
    "version": 3
   },
   "file_extension": ".py",
   "mimetype": "text/x-python",
   "name": "python",
   "nbconvert_exporter": "python",
   "pygments_lexer": "ipython3",
   "version": "3.7.1"
  }
 },
 "nbformat": 4,
 "nbformat_minor": 2
}
