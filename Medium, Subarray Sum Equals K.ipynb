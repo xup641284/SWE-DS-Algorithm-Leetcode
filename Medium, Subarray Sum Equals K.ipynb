{
 "cells": [
  {
   "cell_type": "code",
   "execution_count": 1,
   "metadata": {},
   "outputs": [
    {
     "name": "stdout",
     "output_type": "stream",
     "text": [
      "2\n"
     ]
    }
   ],
   "source": [
    "def subarray_sum(nums, k):\n",
    "    prefix_sum = {}\n",
    "    prefix_sum[0] = 1\n",
    "    count = 0\n",
    "    sum_so_far = 0\n",
    "\n",
    "    for num in nums:\n",
    "        sum_so_far += num\n",
    "        if sum_so_far - k in prefix_sum:\n",
    "            count += prefix_sum[sum_so_far - k]\n",
    "        prefix_sum[sum_so_far] = prefix_sum.get(sum_so_far, 0) + 1\n",
    "\n",
    "    return count\n",
    "\n",
    "# Example usage:\n",
    "nums = [1, 1, 1]\n",
    "k = 2\n",
    "print(subarray_sum(nums, k))  # Output: 2\n"
   ]
  },
  {
   "cell_type": "code",
   "execution_count": null,
   "metadata": {},
   "outputs": [],
   "source": []
  }
 ],
 "metadata": {
  "kernelspec": {
   "display_name": "Python 3",
   "language": "python",
   "name": "python3"
  },
  "language_info": {
   "codemirror_mode": {
    "name": "ipython",
    "version": 3
   },
   "file_extension": ".py",
   "mimetype": "text/x-python",
   "name": "python",
   "nbconvert_exporter": "python",
   "pygments_lexer": "ipython3",
   "version": "3.7.1"
  }
 },
 "nbformat": 4,
 "nbformat_minor": 2
}
