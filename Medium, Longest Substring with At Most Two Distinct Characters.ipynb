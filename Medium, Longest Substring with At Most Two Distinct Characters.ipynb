{
 "cells": [
  {
   "cell_type": "code",
   "execution_count": 1,
   "metadata": {},
   "outputs": [
    {
     "name": "stdout",
     "output_type": "stream",
     "text": [
      "3\n"
     ]
    }
   ],
   "source": [
    "def length_of_longest_substring_two_distinct(s):\n",
    "    char_count = {}\n",
    "    left = 0\n",
    "    max_length = 0\n",
    "\n",
    "    for right, char in enumerate(s):\n",
    "        char_count[char] = char_count.get(char, 0) + 1\n",
    "\n",
    "        while len(char_count) > 2:\n",
    "            char_count[s[left]] -= 1\n",
    "            if char_count[s[left]] == 0:\n",
    "                del char_count[s[left]]\n",
    "            left += 1\n",
    "\n",
    "        max_length = max(max_length, right - left + 1)\n",
    "\n",
    "    return max_length\n",
    "\n",
    "# Example usage:\n",
    "s = \"eceba\"\n",
    "print(length_of_longest_substring_two_distinct(s))  # Output: 3 (Longest substring: \"ece\")\n"
   ]
  },
  {
   "cell_type": "code",
   "execution_count": null,
   "metadata": {},
   "outputs": [],
   "source": []
  }
 ],
 "metadata": {
  "kernelspec": {
   "display_name": "Python 3",
   "language": "python",
   "name": "python3"
  },
  "language_info": {
   "codemirror_mode": {
    "name": "ipython",
    "version": 3
   },
   "file_extension": ".py",
   "mimetype": "text/x-python",
   "name": "python",
   "nbconvert_exporter": "python",
   "pygments_lexer": "ipython3",
   "version": "3.7.1"
  }
 },
 "nbformat": 4,
 "nbformat_minor": 2
}
