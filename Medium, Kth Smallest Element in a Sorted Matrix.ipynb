{
 "cells": [
  {
   "cell_type": "markdown",
   "metadata": {},
   "source": [
    "# Binary heap"
   ]
  },
  {
   "cell_type": "code",
   "execution_count": 2,
   "metadata": {},
   "outputs": [
    {
     "name": "stdout",
     "output_type": "stream",
     "text": [
      "13\n"
     ]
    }
   ],
   "source": [
    "import heapq\n",
    "\n",
    "def kthSmallest(matrix, k):\n",
    "    m, n = len(matrix), len(matrix[0])\n",
    "    heap = []\n",
    "\n",
    "    for i in range(m):\n",
    "        for j in range(n):\n",
    "            heapq.heappush(heap, matrix[i][j])\n",
    "\n",
    "    for _ in range(k):\n",
    "        result = heapq.heappop(heap)\n",
    "\n",
    "    return result\n",
    "\n",
    "matrix = [\n",
    "    [1,  5,  9],\n",
    "    [10, 11, 13],\n",
    "    [12, 13, 15]\n",
    "]\n",
    "k = 8\n",
    "\n",
    "result = kthSmallest(matrix, k)\n",
    "print(result)  # Output: 13\n"
   ]
  },
  {
   "cell_type": "code",
   "execution_count": null,
   "metadata": {},
   "outputs": [],
   "source": []
  }
 ],
 "metadata": {
  "kernelspec": {
   "display_name": "Python 3",
   "language": "python",
   "name": "python3"
  },
  "language_info": {
   "codemirror_mode": {
    "name": "ipython",
    "version": 3
   },
   "file_extension": ".py",
   "mimetype": "text/x-python",
   "name": "python",
   "nbconvert_exporter": "python",
   "pygments_lexer": "ipython3",
   "version": "3.7.1"
  }
 },
 "nbformat": 4,
 "nbformat_minor": 2
}
