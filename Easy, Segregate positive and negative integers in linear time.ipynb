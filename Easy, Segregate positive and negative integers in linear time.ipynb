{
 "cells": [
  {
   "cell_type": "markdown",
   "metadata": {},
   "source": [
    "# linear time, O(n)"
   ]
  },
  {
   "cell_type": "code",
   "execution_count": 1,
   "metadata": {},
   "outputs": [
    {
     "name": "stdout",
     "output_type": "stream",
     "text": [
      "[-3, -2, -8, -6, 5, 9, 1, 3]\n"
     ]
    }
   ],
   "source": [
    "def swap(a, i, j):\n",
    " \n",
    "    temp = a[i]\n",
    "    a[i] = a[j]\n",
    "    a[j] = temp\n",
    " \n",
    " \n",
    "def partition(a):\n",
    " \n",
    "    pIndex = 0\n",
    " \n",
    "    # each time we find a negative number, `pIndex` is incremented,\n",
    "    # and that element would be placed before the pivot\n",
    "    for i in range(len(a)):\n",
    "        if a[i] < 0:        # pivot is 0\n",
    "            swap(a, i, pIndex)\n",
    "            pIndex = pIndex + 1\n",
    " \n",
    " \n",
    "if __name__ == '__main__':\n",
    " \n",
    "    a = [9, -3, 5, -2, -8, -6, 1, 3]\n",
    "    partition(a)\n",
    "    print(a)"
   ]
  },
  {
   "cell_type": "code",
   "execution_count": null,
   "metadata": {},
   "outputs": [],
   "source": []
  }
 ],
 "metadata": {
  "kernelspec": {
   "display_name": "Python 3",
   "language": "python",
   "name": "python3"
  },
  "language_info": {
   "codemirror_mode": {
    "name": "ipython",
    "version": 3
   },
   "file_extension": ".py",
   "mimetype": "text/x-python",
   "name": "python",
   "nbconvert_exporter": "python",
   "pygments_lexer": "ipython3",
   "version": "3.7.1"
  }
 },
 "nbformat": 4,
 "nbformat_minor": 2
}
