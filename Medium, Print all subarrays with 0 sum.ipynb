{
 "cells": [
  {
   "cell_type": "markdown",
   "metadata": {},
   "source": [
    "# Brute Force, O(n2)"
   ]
  },
  {
   "cell_type": "code",
   "execution_count": 1,
   "metadata": {},
   "outputs": [
    {
     "name": "stdout",
     "output_type": "stream",
     "text": [
      "Sublist (0, 2)\n",
      "Sublist (0, 9)\n",
      "Sublist (1, 3)\n",
      "Sublist (2, 5)\n",
      "Sublist (3, 9)\n",
      "Sublist (5, 7)\n"
     ]
    }
   ],
   "source": [
    "# Function to print all sublists with a zero-sum present in a given list\n",
    "def printAllSublists(nums):\n",
    " \n",
    "    # consider all sublists starting from `i`\n",
    "    for i in range(len(nums)):\n",
    "        total = 0\n",
    "        # consider all sublists ending at `j`\n",
    "        for j in range(i, len(nums)):\n",
    "            # sum of elements so far\n",
    "            total += nums[j]\n",
    "            # if the sum is seen before, we have found a sublist with zero-sum\n",
    "            if total == 0:\n",
    "                print('Sublist', (i, j))\n",
    " \n",
    " \n",
    "if __name__ == '__main__':\n",
    " \n",
    "    nums = [3, 4, -7, 3, 1, 3, 1, -4, -2, -2]\n",
    "    printAllSublists(nums)"
   ]
  },
  {
   "cell_type": "markdown",
   "metadata": {},
   "source": [
    "# Multimap"
   ]
  },
  {
   "cell_type": "code",
   "execution_count": 12,
   "metadata": {},
   "outputs": [
    {
     "name": "stdout",
     "output_type": "stream",
     "text": [
      "Sublist is (0, 2)\n",
      "Sublist is (1, 3)\n",
      "Sublist is (2, 5)\n",
      "Sublist is (5, 7)\n",
      "Sublist is (0, 9)\n",
      "Sublist is (3, 9)\n"
     ]
    }
   ],
   "source": [
    "# Utility function to insert <key, value> into the dictionary\n",
    "def insert(d, key, value):\n",
    " \n",
    "    # if the key is seen for the first time, initialize the list\n",
    "    d.setdefault(key, []).append(value)\n",
    " \n",
    " \n",
    "# Function to print all sublists with a zero-sum present in a given list\n",
    "def printallSublists(nums):\n",
    " \n",
    "    # create an empty dictionary to store the ending index of all\n",
    "    # sublists having the same sum\n",
    "    d = {}\n",
    " \n",
    "    # insert (0, -1) pair into the dictionary to handle the case when\n",
    "    # sublist with zero-sum starts from index 0\n",
    "    insert(d, 0, -1)\n",
    " \n",
    "    total = 0\n",
    " \n",
    "    # traverse the given list\n",
    "    for i in range(len(nums)):\n",
    " \n",
    "        # sum of elements so far\n",
    "        total += nums[i]\n",
    " \n",
    "        # if the sum is seen before, there exists at least one\n",
    "        # sublist with zero-sum\n",
    "        if total in d:\n",
    " \n",
    "            list = d.get(total)\n",
    " \n",
    "            # find all sublists with the same sum\n",
    "            for value in list:\n",
    "                        print('Sublist is', (value + 1, i))\n",
    "\n",
    "        # insert (sum so far, current index) pair into the dictionary\n",
    "        insert(d, total, i)\n",
    "\n",
    "if __name__ == '__main__':\n",
    " \n",
    "    nums = [3, 4, -7, 3, 1, 3, 1, -4, -2, -2]\n",
    " \n",
    "    printallSublists(nums)\n",
    " \n"
   ]
  },
  {
   "cell_type": "code",
   "execution_count": null,
   "metadata": {},
   "outputs": [],
   "source": []
  }
 ],
 "metadata": {
  "kernelspec": {
   "display_name": "Python 3",
   "language": "python",
   "name": "python3"
  },
  "language_info": {
   "codemirror_mode": {
    "name": "ipython",
    "version": 3
   },
   "file_extension": ".py",
   "mimetype": "text/x-python",
   "name": "python",
   "nbconvert_exporter": "python",
   "pygments_lexer": "ipython3",
   "version": "3.7.1"
  }
 },
 "nbformat": 4,
 "nbformat_minor": 2
}
