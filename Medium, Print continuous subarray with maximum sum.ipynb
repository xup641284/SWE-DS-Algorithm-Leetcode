{
 "cells": [
  {
   "cell_type": "markdown",
   "metadata": {},
   "source": [
    "# Subarray, O(n)"
   ]
  },
  {
   "cell_type": "code",
   "execution_count": 1,
   "metadata": {},
   "outputs": [
    {
     "name": "stdout",
     "output_type": "stream",
     "text": [
      "The contiguous sublist with the largest sum is [4, -1, 2, 1] , the sum is 6\n"
     ]
    }
   ],
   "source": [
    "import sys\n",
    " \n",
    "# Function to print contiguous sublist with the largest sum\n",
    "# in a given set of integers\n",
    "def kadane(A):\n",
    " \n",
    "    # base case\n",
    "    if len(A) <= 1:\n",
    "        return A\n",
    " \n",
    "    # stores the maximum sum sublist found so far\n",
    "    maxSoFar = -sys.maxsize\n",
    " \n",
    "    # stores the maximum sum of sublist ending at the current position\n",
    "    maxEndingHere = 0\n",
    " \n",
    "    # stores endpoints of maximum sum sublist found so far\n",
    "    start = 0\n",
    "    end = 0\n",
    " \n",
    "    # stores starting index of a positive-sum sequence\n",
    "    beg = 0\n",
    " \n",
    "    # traverse the given list\n",
    "    for i in range(len(A)):\n",
    " \n",
    "        # update the maximum sum of sublist \"ending\" at index `i`\n",
    "        maxEndingHere = maxEndingHere + A[i]\n",
    "        \n",
    "        # if the maximum sum becomes less than the current element,\n",
    "        # start from the current element\n",
    "        if maxEndingHere < A[i]:\n",
    "            maxEndingHere = A[i]\n",
    "            beg = i\n",
    " \n",
    "        # update result if the current sublist sum is found to be greater\n",
    "        if maxSoFar < maxEndingHere:\n",
    "            maxSoFar = maxEndingHere\n",
    "            start = beg\n",
    "            end = i\n",
    " \n",
    "    print(\"The contiguous sublist with the largest sum is\", A[start: end + 1], ', the sum is', maxSoFar)\n",
    " \n",
    " \n",
    "if __name__ == '__main__':\n",
    " \n",
    "    A = [-2, 1, -3, 4, -1, 2, 1, -5, 4]\n",
    "    kadane(A)\n",
    " "
   ]
  },
  {
   "cell_type": "code",
   "execution_count": null,
   "metadata": {},
   "outputs": [],
   "source": []
  }
 ],
 "metadata": {
  "kernelspec": {
   "display_name": "Python 3",
   "language": "python",
   "name": "python3"
  },
  "language_info": {
   "codemirror_mode": {
    "name": "ipython",
    "version": 3
   },
   "file_extension": ".py",
   "mimetype": "text/x-python",
   "name": "python",
   "nbconvert_exporter": "python",
   "pygments_lexer": "ipython3",
   "version": "3.7.1"
  }
 },
 "nbformat": 4,
 "nbformat_minor": 2
}
