{
 "cells": [
  {
   "cell_type": "markdown",
   "metadata": {},
   "source": [
    "# Positve/Negative, O(n)"
   ]
  },
  {
   "cell_type": "code",
   "execution_count": 1,
   "metadata": {},
   "outputs": [
    {
     "name": "stdout",
     "output_type": "stream",
     "text": [
      "The sum of contiguous sublist with the largest sum is 6\n"
     ]
    }
   ],
   "source": [
    "# Function to find the maximum sum of a contiguous subarray\n",
    "# in a given integer array\n",
    "def kadane(arr):\n",
    " \n",
    "    # stores the maximum sum sublist found so far\n",
    "    max_so_far = 0\n",
    " \n",
    "    # stores the maximum sum of sublist ending at the current position\n",
    "    max_ending_here = 0\n",
    " \n",
    "    # traverse the given list\n",
    "    for i in arr:\n",
    "        # update the maximum sum of sublist \"ending\" at index 'i' (by adding the\n",
    "        # current element to maximum sum ending at previous index 'i-1')\n",
    "        max_ending_here = max_ending_here + i\n",
    " \n",
    "        # if the maximum sum is negative, set it to 0 (which represents\n",
    "        # an empty sublist)\n",
    "        max_ending_here = max(max_ending_here, 0)\n",
    " \n",
    "        # update the result if the current sublist sum is found to be greater\n",
    "        max_so_far = max(max_so_far, max_ending_here)\n",
    " \n",
    "    return max_so_far\n",
    " \n",
    "if __name__ == '__main__':\n",
    " \n",
    "    arr = [-2, 1, -3, 4, -1, 2, 1, -5, 4]\n",
    " \n",
    "    print('The sum of contiguous sublist with the largest sum is',\n",
    "        kadane(arr))"
   ]
  },
  {
   "cell_type": "markdown",
   "metadata": {},
   "source": [
    "# All negative, O(n) "
   ]
  },
  {
   "cell_type": "code",
   "execution_count": 2,
   "metadata": {},
   "outputs": [
    {
     "name": "stdout",
     "output_type": "stream",
     "text": [
      "The sum of contiguous sublist with the largest sum is -2\n"
     ]
    }
   ],
   "source": [
    "# Function to find the maximum sum of a contiguous subarray\n",
    "# in a given integer array\n",
    "def kadane(arr):\n",
    " \n",
    "    # find the maximum element present in a given list\n",
    "    maximum = max(arr)\n",
    " \n",
    "    # if the list contains all negative values, return the maximum element\n",
    "    if maximum < 0:\n",
    "        return maximum\n",
    " \n",
    "    # stores the maximum sum sublist found so far\n",
    "    max_so_far = 0\n",
    " \n",
    "    # stores the maximum sum of sublist ending at the current position\n",
    "    max_ending_here = 0\n",
    " \n",
    "    # do for each element of a given list\n",
    "    for i in arr:\n",
    " \n",
    "        # update the maximum sum of sublist \"ending\" at index 'i' (by adding the\n",
    "        # current element to maximum sum ending at previous index 'i-1')\n",
    "        max_ending_here = max_ending_here + i\n",
    " \n",
    "        # if the maximum sum is negative, set it to 0 (which represents\n",
    "        # an empty sublist)\n",
    "        max_ending_here = max(max_ending_here, 0)\n",
    " \n",
    "        # update the result if the current sublist sum is found to be greater\n",
    "        max_so_far = max(max_so_far, max_ending_here)\n",
    "    \n",
    "    return max_so_far\n",
    " \n",
    "if __name__ == '__main__':\n",
    " \n",
    "    arr = [-8, -3, -6, -2, -5, -4]\n",
    "    print('The sum of contiguous sublist with the largest sum is', kadane(arr))"
   ]
  },
  {
   "cell_type": "markdown",
   "metadata": {},
   "source": [
    "#  dynamic programming"
   ]
  },
  {
   "cell_type": "code",
   "execution_count": 3,
   "metadata": {},
   "outputs": [
    {
     "name": "stdout",
     "output_type": "stream",
     "text": [
      "The sum of contiguous sublist with the largest sum is -2\n"
     ]
    }
   ],
   "source": [
    "import sys\n",
    " \n",
    "# Function to find the maximum sum of a contiguous subarray\n",
    "# in a given integer array (handles negative numbers as well)\n",
    "def kadaneNeg(arr):\n",
    "    # stores the maximum sum sublist found so far\n",
    "    max_so_far = -sys.maxsize\n",
    " \n",
    "    # stores the maximum sum of sublist ending at the current position\n",
    "    max_ending_here = 0\n",
    " \n",
    "    # traverse the given list\n",
    "    for i in range(len(arr)):\n",
    "        # update the maximum sum of sublist \"ending\" at index 'i' (by adding the\n",
    "        # current element to maximum sum ending at previous index 'i-1')\n",
    "        max_ending_here = max_ending_here + arr[i]\n",
    " \n",
    "        # maximum sum should be more than the current element\n",
    "        max_ending_here = max(max_ending_here, arr[i])\n",
    " \n",
    "        # update the result if the current sublist sum is found to be greater\n",
    "        max_so_far = max(max_so_far, max_ending_here)\n",
    " \n",
    "    return max_so_far\n",
    " \n",
    "if __name__ == '__main__':\n",
    " \n",
    "    arr = [-8, -3, -6, -2, -5, -4]\n",
    "    print('The sum of contiguous sublist with the largest sum is', kadaneNeg(arr))"
   ]
  },
  {
   "cell_type": "code",
   "execution_count": null,
   "metadata": {},
   "outputs": [],
   "source": []
  }
 ],
 "metadata": {
  "kernelspec": {
   "display_name": "Python 3",
   "language": "python",
   "name": "python3"
  },
  "language_info": {
   "codemirror_mode": {
    "name": "ipython",
    "version": 3
   },
   "file_extension": ".py",
   "mimetype": "text/x-python",
   "name": "python",
   "nbconvert_exporter": "python",
   "pygments_lexer": "ipython3",
   "version": "3.7.1"
  }
 },
 "nbformat": 4,
 "nbformat_minor": 2
}
