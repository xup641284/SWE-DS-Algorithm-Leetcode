{
 "cells": [
  {
   "cell_type": "markdown",
   "metadata": {},
   "source": [
    "# Quicksort, O(n) "
   ]
  },
  {
   "cell_type": "code",
   "execution_count": 16,
   "metadata": {},
   "outputs": [
    {
     "name": "stdout",
     "output_type": "stream",
     "text": [
      "[0, 0, 0, 0, 0, 1, 1, 1, 1, 2, 2, 2]\n"
     ]
    }
   ],
   "source": [
    "# Utility function to swap elements `A[i]` and `A[j]` in the list\n",
    "def swap(A, i, j):\n",
    " \n",
    "    temp = A[i]\n",
    "    A[i] = A[j]\n",
    "    A[j] = temp\n",
    " \n",
    " \n",
    "# Linear time partition routine to sort a list containing 0, 1, and 2.\n",
    "# It is similar to 3–way partitioning for the Dutch national flag problem.\n",
    "def threeWayPartition(A):\n",
    " \n",
    "    start = mid = 0\n",
    "    pivot = 1\n",
    "    end = len(A) - 1\n",
    " \n",
    "    while mid <= end:\n",
    "        if A[mid] < pivot:      # current element is 0\n",
    "            swap(A, start, mid)\n",
    "            start = start + 1\n",
    "            mid = mid + 1\n",
    "        elif A[mid] > pivot:    # current element is 2\n",
    "            swap(A, mid, end)\n",
    "            end = end - 1\n",
    "        else:                   # current element is 1\n",
    "            mid = mid + 1\n",
    "            \n",
    "if __name__ == '__main__':\n",
    " \n",
    "    A = [0, 1, 2, 2, 1, 0, 0, 2, 0, 1, 1, 0]\n",
    "    threeWayPartition(A)\n",
    "    print(A)\n",
    " "
   ]
  },
  {
   "cell_type": "code",
   "execution_count": null,
   "metadata": {},
   "outputs": [],
   "source": []
  }
 ],
 "metadata": {
  "kernelspec": {
   "display_name": "Python 3",
   "language": "python",
   "name": "python3"
  },
  "language_info": {
   "codemirror_mode": {
    "name": "ipython",
    "version": 3
   },
   "file_extension": ".py",
   "mimetype": "text/x-python",
   "name": "python",
   "nbconvert_exporter": "python",
   "pygments_lexer": "ipython3",
   "version": "3.7.1"
  }
 },
 "nbformat": 4,
 "nbformat_minor": 2
}
