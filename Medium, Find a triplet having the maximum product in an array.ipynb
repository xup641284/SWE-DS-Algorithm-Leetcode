{
 "cells": [
  {
   "cell_type": "markdown",
   "metadata": {},
   "source": [
    "# first two one last or last three, O(n.log(n))"
   ]
  },
  {
   "cell_type": "code",
   "execution_count": 1,
   "metadata": {},
   "outputs": [
    {
     "name": "stdout",
     "output_type": "stream",
     "text": [
      "Triplet is (-8, -4, 9)\n"
     ]
    }
   ],
   "source": [
    "# Find a triplet having the maximum product in a given list\n",
    "def findTriplet(A):\n",
    " \n",
    "    # sort the given list in a natural order\n",
    "    A.sort()\n",
    " \n",
    "    n = len(A)\n",
    " \n",
    "    # invalid input\n",
    "    if n <= 2:\n",
    "        print(\"No triplet exists. The array has less than 3 elements.\")\n",
    " \n",
    "    # consider a maximum of the last three elements or\n",
    "    # the first two elements and last element\n",
    "    if A[n - 1] * A[n - 2] * A[n - 3] > A[0] * A[1] * A[n - 1]:\n",
    "        print(\"Triplet is\", (A[n - 1], A[n - 2], A[n - 3]))\n",
    "    else:\n",
    "        print(\"Triplet is\", (A[0], A[1], A[n - 1]))\n",
    " \n",
    " \n",
    "if __name__ == '__main__':\n",
    " \n",
    "    A = [-4, 1, -8, 9, 6]\n",
    "    findTriplet(A)\n",
    " "
   ]
  },
  {
   "cell_type": "markdown",
   "metadata": {},
   "source": [
    "# find only first two one last or last three elements"
   ]
  },
  {
   "cell_type": "code",
   "execution_count": 2,
   "metadata": {},
   "outputs": [
    {
     "name": "stdout",
     "output_type": "stream",
     "text": [
      "Triplet is (-8, -4, 9)\n"
     ]
    }
   ],
   "source": [
    "# Find a triplet having the maximum product in a list\n",
    "def printTriplet(A):\n",
    " \n",
    "    n = len(A)\n",
    " \n",
    "    if n <= 2:        # invalid input\n",
    "        print(\"No triplet exists. The array has less than 3 elements.\")\n",
    " \n",
    "    # 1. Find the index of the largest, second largest, and third largest\n",
    "    # element in the list\n",
    "    max_index1 = 0\n",
    "    max_index2 = -1\n",
    "    max_index3 = -1\n",
    " \n",
    "    for i in range(1, n):\n",
    "        # if the current element is less than the largest element found so far\n",
    "        if A[i] > A[max_index1]:\n",
    "            max_index3 = max_index2\n",
    "            max_index2 = max_index1\n",
    "            max_index1 = i\n",
    " \n",
    "        # if the current element is less than the second largest element\n",
    "        # found so far\n",
    "        elif max_index2 == -1 or A[i] > A[max_index2]:\n",
    "            max_index3 = max_index2\n",
    "            max_index2 = i\n",
    " \n",
    "        # if the current element is less than the third largest element\n",
    "        # found so far\n",
    "        elif max_index3 == -1 or A[i] > A[max_index3]:\n",
    "            max_index3 = i\n",
    " \n",
    "    # 2. Find the index of the smallest and second smallest element in the list\n",
    "    min_index1 = 0\n",
    "    min_index2 = -1\n",
    "    for i in range(1, n):\n",
    " \n",
    "        # if the current element is more than the smallest element found so far\n",
    "        if A[i] < A[min_index1]:\n",
    "            min_index2 = min_index1\n",
    "            min_index1 = i\n",
    " \n",
    "        # if the current element is more than the second smallest element\n",
    "        # found so far\n",
    "        elif min_index2 == -1 or A[i] < A[min_index2]:\n",
    "            min_index2 = i\n",
    " \n",
    "    if A[max_index1] * A[max_index2] * A[max_index3] > A[min_index1] * A[min_index2] *    A[max_index1]:\n",
    "        print(\"Triplet is\", (A[max_index1], A[max_index2], A[max_index3]))\n",
    "    else:\n",
    "        print(\"Triplet is\", (A[min_index1], A[min_index2], A[max_index1]))\n",
    " \n",
    " \n",
    "if __name__ == '__main__':\n",
    " \n",
    "    A = [-4, 1, -8, 9, 6]\n",
    "    printTriplet(A)\n",
    " "
   ]
  },
  {
   "cell_type": "code",
   "execution_count": null,
   "metadata": {},
   "outputs": [],
   "source": []
  }
 ],
 "metadata": {
  "kernelspec": {
   "display_name": "Python 3",
   "language": "python",
   "name": "python3"
  },
  "language_info": {
   "codemirror_mode": {
    "name": "ipython",
    "version": 3
   },
   "file_extension": ".py",
   "mimetype": "text/x-python",
   "name": "python",
   "nbconvert_exporter": "python",
   "pygments_lexer": "ipython3",
   "version": "3.7.1"
  }
 },
 "nbformat": 4,
 "nbformat_minor": 2
}
