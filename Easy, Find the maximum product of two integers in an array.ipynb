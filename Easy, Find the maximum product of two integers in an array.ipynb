{
 "cells": [
  {
   "cell_type": "markdown",
   "metadata": {},
   "source": [
    "# first 2 last 2, O(n.log(n)) "
   ]
  },
  {
   "cell_type": "code",
   "execution_count": 2,
   "metadata": {},
   "outputs": [
    {
     "name": "stdout",
     "output_type": "stream",
     "text": [
      "[-20, -10, -3, 5, 6]\n",
      "Pair is (-20, -10)\n"
     ]
    }
   ],
   "source": [
    "# A naive solution to finding the maximum product of two integers in a list\n",
    "def findMaximumProduct(A):\n",
    " \n",
    "    # `n` is the length of the list\n",
    "    n = len(A)\n",
    " \n",
    "    # base case\n",
    "    if n < 2:\n",
    "        return\n",
    " \n",
    "    # sort list in ascending order\n",
    "    A.sort()\n",
    "    print(A)\n",
    " \n",
    "    # choose the maximum of the following:\n",
    "    # 1. Product of the first two elements or\n",
    "    # 2. Product of the last two elements.\n",
    " \n",
    "    if (A[0] * A[1]) > (A[n - 1] * A[n - 2]):\n",
    "        print(\"Pair is\", (A[0], A[1]))\n",
    "    else:\n",
    "        print(\"Pair is\", (A[n - 1], A[n - 2]))\n",
    " \n",
    " \n",
    "if __name__ == '__main__':\n",
    " \n",
    "    A = [-10, -3, 5, 6, -20]\n",
    "    findMaximumProduct(A)"
   ]
  },
  {
   "cell_type": "markdown",
   "metadata": {},
   "source": [
    "# 2 max 2 min, O(n)"
   ]
  },
  {
   "cell_type": "code",
   "execution_count": 3,
   "metadata": {},
   "outputs": [
    {
     "name": "stdout",
     "output_type": "stream",
     "text": [
      "Pair is (-10, -3)\n"
     ]
    }
   ],
   "source": [
    "import sys\n",
    " \n",
    "#Function to find the maximum product of two integers in a list\n",
    "def findMaximumProduct(A):\n",
    " \n",
    "    # to store the maximum and second maximum element in a list\n",
    "    max1 = A[0]\n",
    "    max2 = -sys.maxsize\n",
    " \n",
    "    # to store the minimum and second minimum element in a list\n",
    "    min1 = A[0]\n",
    "    min2 = sys.maxsize\n",
    " \n",
    "    for i in range(1, len(A)):\n",
    " \n",
    "        # if the current element is more than the maximum element,\n",
    "        # update the maximum and second maximum element\n",
    "        if A[i] > max1:\n",
    "            max2 = max1\n",
    "            max1 = A[i]\n",
    " \n",
    "        # if the current element is less than the maximum but greater than the\n",
    "        # second maximum element, update the second maximum element\n",
    "        elif A[i] > max2:\n",
    "            max2 = A[i]\n",
    " \n",
    "        # if the current element is less than the minimum element,\n",
    "        # update the minimum and the second minimum\n",
    "        if A[i] < min1:\n",
    "            min2 = min1\n",
    "            min1 = A[i]\n",
    " \n",
    "        # if the current element is more than the minimum but less than the\n",
    "        # second minimum element, update the second minimum element\n",
    "        elif A[i] < min2:\n",
    "            min2 = A[i]\n",
    " \n",
    "        # otherwise, ignore the element\n",
    " \n",
    "    # choose the maximum of the following:\n",
    "    # 1. Product of the maximum and second maximum element or\n",
    "    # 2. Product of the minimum and second minimum element\n",
    "    if max1 * max2 > min1 * min2:\n",
    "        print(\"Pair is\", (max1, max2))\n",
    "    else:\n",
    "        print(\"Pair is\", (min1, min2))\n",
    " \n",
    " \n",
    "if __name__ == '__main__':\n",
    " \n",
    "    A = [-10, -3, 5, 6, -2]\n",
    "    findMaximumProduct(A)"
   ]
  },
  {
   "cell_type": "code",
   "execution_count": null,
   "metadata": {},
   "outputs": [],
   "source": []
  }
 ],
 "metadata": {
  "kernelspec": {
   "display_name": "Python 3",
   "language": "python",
   "name": "python3"
  },
  "language_info": {
   "codemirror_mode": {
    "name": "ipython",
    "version": 3
   },
   "file_extension": ".py",
   "mimetype": "text/x-python",
   "name": "python",
   "nbconvert_exporter": "python",
   "pygments_lexer": "ipython3",
   "version": "3.7.1"
  }
 },
 "nbformat": 4,
 "nbformat_minor": 2
}
