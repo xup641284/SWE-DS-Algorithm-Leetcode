{
 "cells": [
  {
   "cell_type": "markdown",
   "metadata": {},
   "source": [
    "# Hashing, O(n)"
   ]
  },
  {
   "cell_type": "code",
   "execution_count": 1,
   "metadata": {},
   "outputs": [
    {
     "name": "stdout",
     "output_type": "stream",
     "text": [
      "{0, 1, 4, -2}\n",
      "Sublist exists\n"
     ]
    }
   ],
   "source": [
    "# Function to check if a sublist with zero-sum is present in a given list or not\n",
    "def hasZeroSumSublist(nums):\n",
    " \n",
    "    # create an empty set to store the sum of elements of each\n",
    "    # sublist `nums[0…i]`, where `0 <= i < len(nums)`\n",
    "    s = set()\n",
    " \n",
    "    # insert 0 into the set to handle the case when sublist with\n",
    "    # zero-sum starts from index 0\n",
    "    s.add(0)\n",
    " \n",
    "    total = 0\n",
    " \n",
    "    # traverse the given list\n",
    "    for i in nums:\n",
    " \n",
    "        # sum of elements so far\n",
    "        total += i\n",
    " \n",
    "        # if the sum is seen before, we have found a sublist with zero-sum\n",
    "        if total in s:\n",
    "            return True\n",
    " \n",
    "        # insert sum so far into the set\n",
    "        s.add(total)\n",
    " \n",
    "    # we reach here when no sublist with zero-sum exists\n",
    "    return False\n",
    "\n",
    "if __name__ == '__main__':\n",
    " \n",
    "    nums = [4, -6, 3, -1, 4, 2, 7]\n",
    " \n",
    "    if hasZeroSumSublist(nums):\n",
    "        print('Sublist exists')\n",
    "    else:\n",
    "        print('Sublist does not exist')\n",
    " \n",
    " "
   ]
  },
  {
   "cell_type": "code",
   "execution_count": null,
   "metadata": {},
   "outputs": [],
   "source": []
  }
 ],
 "metadata": {
  "kernelspec": {
   "display_name": "Python 3",
   "language": "python",
   "name": "python3"
  },
  "language_info": {
   "codemirror_mode": {
    "name": "ipython",
    "version": 3
   },
   "file_extension": ".py",
   "mimetype": "text/x-python",
   "name": "python",
   "nbconvert_exporter": "python",
   "pygments_lexer": "ipython3",
   "version": "3.7.1"
  }
 },
 "nbformat": 4,
 "nbformat_minor": 2
}
