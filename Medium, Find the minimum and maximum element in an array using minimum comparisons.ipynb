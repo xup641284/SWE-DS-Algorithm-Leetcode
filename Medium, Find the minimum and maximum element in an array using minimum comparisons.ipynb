{
 "cells": [
  {
   "cell_type": "markdown",
   "metadata": {},
   "source": [
    "# Naive"
   ]
  },
  {
   "cell_type": "code",
   "execution_count": 3,
   "metadata": {},
   "outputs": [
    {
     "name": "stdout",
     "output_type": "stream",
     "text": [
      "The minimum element in the list is 2\n",
      "The maximum element in the list is 9\n"
     ]
    }
   ],
   "source": [
    "# Naive solution to find the minimum and maximum number in a list\n",
    "def findMinAndMax(nums):\n",
    " \n",
    "    # initialize minimum and maximum element with the first element\n",
    "    max = min = nums[0]\n",
    " \n",
    "    # do for each element in the list\n",
    "    for i in range(1, len(nums)):\n",
    " \n",
    "        # if the current element is greater than the maximum found so far\n",
    "        if nums[i] > max:\n",
    "            max = nums[i]\n",
    " \n",
    "        # if the current element is smaller than the minimum found so far\n",
    "        elif nums[i] < min:\n",
    "            min = nums[i]\n",
    " \n",
    "    print('The minimum element in the list is', min)\n",
    "    print('The maximum element in the list is', max)\n",
    " \n",
    " \n",
    "if __name__ == '__main__':\n",
    " \n",
    "    nums = [5, 7, 2, 4, 9, 6]\n",
    " \n",
    "    # find the minimum and maximum element, respectively\n",
    "    findMinAndMax(nums)"
   ]
  },
  {
   "cell_type": "markdown",
   "metadata": {},
   "source": [
    "# elements in pair "
   ]
  },
  {
   "cell_type": "code",
   "execution_count": 2,
   "metadata": {},
   "outputs": [
    {
     "name": "stdout",
     "output_type": "stream",
     "text": [
      "The minimum element in the list is 1\n",
      "The maximum element in the list is 7\n"
     ]
    }
   ],
   "source": [
    "import sys\n",
    " \n",
    "# Optimized solution to find the minimum and maximum number in a list\n",
    "def findMinAndMax(nums):\n",
    " \n",
    "    n = len(nums)\n",
    " \n",
    "    # initialize minimum element by INFINITY and the maximum element by -INFINITY\n",
    "    max = -sys.maxsize\n",
    "    min = sys.maxsize\n",
    " \n",
    "    # if the list has an odd number of elements, ignore the last\n",
    "    # element and consider it later\n",
    "    if n & 1:\n",
    "        n = n - 1\n",
    " \n",
    "    # compare elements in pairs, i.e., nums[i] and nums[i+1]\n",
    "    for i in range(0, n, 2):\n",
    " \n",
    "        # find maximum and minimum among nums[i] and nums[i+1]\n",
    " \n",
    "        if nums[i] > nums[i + 1]:     # 1st comparison\n",
    "            minimum = nums[i + 1]\n",
    "            maximum = nums[i]\n",
    "        else:\n",
    "            minimum = nums[i]\n",
    "            maximum = nums[i + 1]\n",
    " \n",
    "        # update max\n",
    "        if maximum > max:       # 2nd comparison\n",
    "            max = maximum\n",
    " \n",
    "        # update min\n",
    "        if minimum < min:       # 3rd comparison\n",
    "            min = minimum\n",
    " \n",
    "    # handle the last element if the list has an odd number of elements\n",
    "    if len(nums) & 1:\n",
    "        if nums[n] > max: max = nums[n]\n",
    "        if nums[n] < min: min = nums[n]\n",
    " \n",
    "    print('The minimum element in the list is', min)\n",
    "    print('The maximum element in the list is', max)\n",
    " \n",
    " \n",
    "if __name__ == '__main__':\n",
    " \n",
    "    nums = [4, 7, 5, 1, 3]\n",
    "    findMinAndMax(nums)"
   ]
  },
  {
   "cell_type": "code",
   "execution_count": null,
   "metadata": {},
   "outputs": [],
   "source": []
  }
 ],
 "metadata": {
  "kernelspec": {
   "display_name": "Python 3",
   "language": "python",
   "name": "python3"
  },
  "language_info": {
   "codemirror_mode": {
    "name": "ipython",
    "version": 3
   },
   "file_extension": ".py",
   "mimetype": "text/x-python",
   "name": "python",
   "nbconvert_exporter": "python",
   "pygments_lexer": "ipython3",
   "version": "3.7.1"
  }
 },
 "nbformat": 4,
 "nbformat_minor": 2
}
