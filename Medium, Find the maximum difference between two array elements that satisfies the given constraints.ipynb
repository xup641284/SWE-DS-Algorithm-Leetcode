{
 "cells": [
  {
   "cell_type": "markdown",
   "metadata": {},
   "source": [
    "# Naive, O(n2)"
   ]
  },
  {
   "cell_type": "code",
   "execution_count": 1,
   "metadata": {},
   "outputs": [
    {
     "name": "stdout",
     "output_type": "stream",
     "text": [
      "The maximum difference is 7\n"
     ]
    }
   ],
   "source": [
    "import sys\n",
    " \n",
    "# Naive function to find the maximum difference between two elements in\n",
    "# a list such that the smaller element appears before the larger element\n",
    "def getMaxDiff(A):\n",
    " \n",
    "    diff = -sys.maxsize\n",
    " \n",
    "    n = len(A)\n",
    "    if n == 0:\n",
    "        return diff\n",
    " \n",
    "    for i in range(n - 1):\n",
    "        for j in range(i + 1, n):\n",
    "            if A[j] > A[i]:\n",
    "                diff = max(diff, A[j] - A[i])\n",
    " \n",
    "    return diff\n",
    "\n",
    " \n",
    "if __name__ == '__main__':\n",
    " \n",
    "    A = [2, 7, 9, 5, 1, 3, 5]\n",
    " \n",
    "    diff = getMaxDiff(A)\n",
    "    if diff != -sys.maxsize:\n",
    "        print(\"The maximum difference is\", diff)"
   ]
  },
  {
   "cell_type": "markdown",
   "metadata": {},
   "source": [
    "# Linear time, O(n) "
   ]
  },
  {
   "cell_type": "code",
   "execution_count": 2,
   "metadata": {},
   "outputs": [
    {
     "name": "stdout",
     "output_type": "stream",
     "text": [
      "The maximum difference is 7\n"
     ]
    }
   ],
   "source": [
    "import sys\n",
    " \n",
    "#Function to calculate the maximum difference between two elements in a\n",
    "# list such that a smaller element appears before a larger element\n",
    "def getMaxDiff(A):\n",
    " \n",
    "    diff = -sys.maxsize\n",
    "    n = len(A)\n",
    "    if n == 0:\n",
    "        return diff\n",
    " \n",
    "    max_so_far = A[n - 1]\n",
    " \n",
    "    # traverse the list from the right and keep track of the maximum element\n",
    "    for i in reversed(range(n - 1)):\n",
    " \n",
    "        # update `max_so_far` if the current element is greater than the\n",
    "        # maximum element\n",
    "        if A[i] >= max_so_far:\n",
    "            max_so_far = A[i]\n",
    " \n",
    "        # if the current element is less than the maximum element,\n",
    "        # then update the difference if required\n",
    "        else:\n",
    "            diff = max(diff, max_so_far - A[i])\n",
    " \n",
    "    # return difference\n",
    "    return diff\n",
    " \n",
    "if __name__ == '__main__':\n",
    " \n",
    "    A = [2, 7, 9, 5, 1, 3, 5]\n",
    "    diff = getMaxDiff(A)\n",
    "    if diff != -sys.maxsize:\n",
    "        print(\"The maximum difference is\", diff)\n",
    " "
   ]
  },
  {
   "cell_type": "code",
   "execution_count": null,
   "metadata": {},
   "outputs": [],
   "source": []
  }
 ],
 "metadata": {
  "kernelspec": {
   "display_name": "Python 3",
   "language": "python",
   "name": "python3"
  },
  "language_info": {
   "codemirror_mode": {
    "name": "ipython",
    "version": 3
   },
   "file_extension": ".py",
   "mimetype": "text/x-python",
   "name": "python",
   "nbconvert_exporter": "python",
   "pygments_lexer": "ipython3",
   "version": "3.7.1"
  }
 },
 "nbformat": 4,
 "nbformat_minor": 2
}
