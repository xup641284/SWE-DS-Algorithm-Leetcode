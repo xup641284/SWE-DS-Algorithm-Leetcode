{
 "cells": [
  {
   "cell_type": "code",
   "execution_count": 6,
   "metadata": {},
   "outputs": [
    {
     "name": "stdout",
     "output_type": "stream",
     "text": [
      "[2, -1, 2]\n"
     ]
    }
   ],
   "source": [
    "def next_greater_elements(nums):\n",
    "    n = len(nums)\n",
    "    result = [-1] * n\n",
    "    stack = []\n",
    "\n",
    "    for i in range(2 * n):\n",
    "        # For circular array\n",
    "        current_index = i % n\n",
    "\n",
    "        while stack and nums[current_index] > nums[stack[-1]]:\n",
    "            top_index = stack.pop()\n",
    "            result[top_index] = nums[current_index]\n",
    "\n",
    "        if i < n:\n",
    "            stack.append(current_index)\n",
    "\n",
    "    return result\n",
    "\n",
    "# Example usage:\n",
    "nums = [1, 2, 1]\n",
    "print(next_greater_elements(nums))  # Output: [2, -1, 2]"
   ]
  },
  {
   "cell_type": "code",
   "execution_count": null,
   "metadata": {},
   "outputs": [],
   "source": []
  }
 ],
 "metadata": {
  "kernelspec": {
   "display_name": "Python 3",
   "language": "python",
   "name": "python3"
  },
  "language_info": {
   "codemirror_mode": {
    "name": "ipython",
    "version": 3
   },
   "file_extension": ".py",
   "mimetype": "text/x-python",
   "name": "python",
   "nbconvert_exporter": "python",
   "pygments_lexer": "ipython3",
   "version": "3.7.1"
  }
 },
 "nbformat": 4,
 "nbformat_minor": 2
}
